{
  "nbformat": 4,
  "nbformat_minor": 0,
  "metadata": {
    "colab": {
      "provenance": [],
      "authorship_tag": "ABX9TyMcAVZnB/hNyqiU6WvHYSfh",
      "include_colab_link": true
    },
    "kernelspec": {
      "name": "python3",
      "display_name": "Python 3"
    },
    "language_info": {
      "name": "python"
    }
  },
  "cells": [
    {
      "cell_type": "markdown",
      "metadata": {
        "id": "view-in-github",
        "colab_type": "text"
      },
      "source": [
        "<a href=\"https://colab.research.google.com/github/fowardelcac/Titanic_2.0/blob/main/Modelos/Pca.ipynb\" target=\"_parent\"><img src=\"https://colab.research.google.com/assets/colab-badge.svg\" alt=\"Open In Colab\"/></a>"
      ]
    },
    {
      "cell_type": "code",
      "execution_count": 1,
      "metadata": {
        "colab": {
          "base_uri": "https://localhost:8080/"
        },
        "id": "B0-3V9uBYJBk",
        "outputId": "ebd54c9d-5ee3-462e-a78e-1180b54976f9"
      },
      "outputs": [
        {
          "output_type": "stream",
          "name": "stdout",
          "text": [
            "Cloning into 'Titanic_2.0'...\n",
            "remote: Enumerating objects: 162, done.\u001b[K\n",
            "remote: Counting objects: 100% (25/25), done.\u001b[K\n",
            "remote: Compressing objects: 100% (25/25), done.\u001b[K\n",
            "remote: Total 162 (delta 6), reused 0 (delta 0), pack-reused 137\u001b[K\n",
            "Receiving objects: 100% (162/162), 178.71 KiB | 5.42 MiB/s, done.\n",
            "Resolving deltas: 100% (62/62), done.\n"
          ]
        }
      ],
      "source": [
        "! git clone https://github.com/fowardelcac/Titanic_2.0.git"
      ]
    },
    {
      "cell_type": "code",
      "source": [
        "import pandas as pd\n",
        "import numpy as np\n",
        "import matplotlib.pyplot as plt\n",
        "import seaborn as sns\n",
        "import random\n",
        "import warnings\n",
        "\n",
        "from sklearn.metrics import accuracy_score\n",
        "from sklearn.model_selection import train_test_split\n",
        "from sklearn.model_selection import GridSearchCV\n",
        "from sklearn.preprocessing import OneHotEncoder\n",
        "from sklearn.preprocessing import MinMaxScaler\n",
        "from sklearn.decomposition import PCA\n",
        "\n",
        "from sklearn.linear_model import LogisticRegression\n",
        "from sklearn.neighbors import KNeighborsClassifier\n",
        "from sklearn.tree import DecisionTreeClassifier\n",
        "from sklearn.ensemble import RandomForestClassifier\n",
        "\n",
        "warnings.filterwarnings('ignore')"
      ],
      "metadata": {
        "id": "U25akS1pYnrH"
      },
      "execution_count": 2,
      "outputs": []
    },
    {
      "cell_type": "code",
      "source": [
        "def edit_age(df):\n",
        "  serie = df['Age'].dropna()\n",
        "  # Obtener la cantidad de valores nulos en la columna 'Age'\n",
        "  size = df['Age'].isna().sum()\n",
        "  # Generar una nueva Serie con valores aleatorios de la Serie 'serie'\n",
        "  random_values = np.random.choice(serie, size=size)\n",
        "  # Reemplazar los valores NaN en la columna 'Age' con los valores aleatorios\n",
        "  df.loc[df['Age'].isna(), 'Age'] = random_values\n",
        "  return df\n",
        "\n",
        "def onehot(df):\n",
        "  encoder = OneHotEncoder()\n",
        "  data = pd.DataFrame(encoder.fit_transform(df['Pclass'].values.reshape(-1, 1)).toarray(), columns=['1', '2', '3'])\n",
        "  return data\n",
        "\n",
        "def edit(df):\n",
        "  df = edit_age(df)\n",
        "\n",
        "  mapeo = {'male': 0, 'female': 1}\n",
        "  df.Sex = df.Sex.map(mapeo)\n",
        "  \n",
        "  df['familia'] = df.SibSp + df.Parch\n",
        "\n",
        "  data = onehot(df)\n",
        "  df.reset_index('PassengerId', inplace=True)\n",
        "  df = pd.concat([df, data], axis=1).set_index('PassengerId')\n",
        "\n",
        "  scaler = MinMaxScaler().fit_transform(df['Fare'].values.reshape(-1, 1))\n",
        "  scaled_series = pd.Series(scaler.flatten(), index=df.index)\n",
        "  df.Fare = scaled_series\n",
        "\n",
        "  scaler = MinMaxScaler().fit_transform(df['Age'].values.reshape(-1, 1))\n",
        "  scaled_series = pd.Series(scaler.flatten(), index=df.index)\n",
        "  df.Age = scaled_series\n",
        "\n",
        "\n",
        "  df.drop(['SibSp', 'Parch', 'Cabin', 'Ticket', 'Name', 'Embarked'], axis = 1, inplace = True)\n",
        "  return df   "
      ],
      "metadata": {
        "id": "dGk3rJNPY3BG"
      },
      "execution_count": 7,
      "outputs": []
    },
    {
      "cell_type": "code",
      "source": [
        "def split(df):\n",
        "  n = len(df.columns)\n",
        "  X = df.drop('Survived', axis=1).values.reshape((-1, n - 1))\n",
        "  y = df.Survived\n",
        "  X_train, X_test, y_train, y_test = train_test_split(X, y, train_size = 0.3, random_state = 42)\n",
        "  return X_train, X_test, y_train, y_test\n",
        "\n",
        "def modelar(modelo, X_train, y_train):\n",
        "   return modelo.fit(X_train, y_train) \n",
        "\n",
        "def predecir(modelo, X_test, y_test, accuracy_score):\n",
        "  y_pred = modelo.predict(X_test)\n",
        "  score = round(accuracy_score(y_test, y_pred), 3)\n",
        "  return score\n",
        "\n",
        "def predecir_rdo(modelo, X_test):\n",
        "  return modelo.predict(X_test)"
      ],
      "metadata": {
        "id": "sBvuEM_UY_ET"
      },
      "execution_count": 4,
      "outputs": []
    },
    {
      "cell_type": "code",
      "source": [
        "def random_samples():\n",
        "  columnas = ['Sex', 'Age', 'Fare', 'familia', 'Pclass']\n",
        "  n_col =  random.randint(1, len(columnas))\n",
        "  random_c = random.sample(columnas, n_col)\n",
        "  return random_c\n",
        "\n",
        "def create_df_azar(df):\n",
        "  columnas = random_samples()\n",
        "  data = df.filter(columnas, axis = 1)\n",
        "  data['Survived'] = df.Survived\n",
        "  return data\n",
        "\n",
        "def modelar_(df):\n",
        "  modelos_lista = [RandomForestClassifier(), DecisionTreeClassifier(), KNeighborsClassifier(), LogisticRegression()]\n",
        "  data = create_df_azar(df)\n",
        "  cols_d = data.columns[:-1]\n",
        "  \n",
        "  X_train, X_test, y_train, y_test = split(data)\n",
        "  dic_m = {}\n",
        "  for i in modelos_lista:  \n",
        "    modelo = modelar(i, X_train, y_train)\n",
        "    acc = predecir(modelo, X_test, y_test, accuracy_score)\n",
        "    dic_m[i] = [cols_d, acc]\n",
        "  return dic_m"
      ],
      "metadata": {
        "id": "LtBC1krhZFlB"
      },
      "execution_count": 5,
      "outputs": []
    },
    {
      "cell_type": "code",
      "source": [
        "def grid(modelo, params, X_train, y_train):\n",
        "  grid_rf = GridSearchCV(modelo, params, cv = 5).fit(X_train, y_train)\n",
        "  mejores_parametros = grid_rf.best_params_\n",
        "  mejor_score = grid_rf.best_score_\n",
        "\n",
        "  print(\"Mejores parámetros:\", mejores_parametros)\n",
        "  print(\"Mejor score:\", mejor_score)\n",
        "\n",
        "def rdo(test, y_pred):\n",
        "  return pd.DataFrame(\n",
        "    {\n",
        "    'Survived': y_pred\n",
        "    }, index= test.index )\n",
        "   "
      ],
      "metadata": {
        "id": "-xPLQSxFaUQG"
      },
      "execution_count": 6,
      "outputs": []
    },
    {
      "cell_type": "code",
      "source": [
        "df = pd.read_csv('/content/Titanic_2.0/Datasets_originales/train.csv').set_index('PassengerId')\n",
        "df = edit(df)\n",
        "df.head()"
      ],
      "metadata": {
        "colab": {
          "base_uri": "https://localhost:8080/",
          "height": 237
        },
        "id": "89CnIEYuaZRL",
        "outputId": "4fec3f4a-66bf-4680-cc90-9036e66bb3d0"
      },
      "execution_count": 8,
      "outputs": [
        {
          "output_type": "execute_result",
          "data": {
            "text/plain": [
              "             Survived  Pclass  Sex       Age      Fare  familia    1    2    3\n",
              "PassengerId                                                                   \n",
              "1                   0       3    0  0.271174  0.014151        1  0.0  0.0  1.0\n",
              "2                   1       1    1  0.472229  0.139136        1  1.0  0.0  0.0\n",
              "3                   1       3    1  0.321438  0.015469        0  0.0  0.0  1.0\n",
              "4                   1       1    1  0.434531  0.103644        1  1.0  0.0  0.0\n",
              "5                   0       3    0  0.434531  0.015713        0  0.0  0.0  1.0"
            ],
            "text/html": [
              "\n",
              "  <div id=\"df-632b6719-6f51-4ead-89d0-2050b628d29f\">\n",
              "    <div class=\"colab-df-container\">\n",
              "      <div>\n",
              "<style scoped>\n",
              "    .dataframe tbody tr th:only-of-type {\n",
              "        vertical-align: middle;\n",
              "    }\n",
              "\n",
              "    .dataframe tbody tr th {\n",
              "        vertical-align: top;\n",
              "    }\n",
              "\n",
              "    .dataframe thead th {\n",
              "        text-align: right;\n",
              "    }\n",
              "</style>\n",
              "<table border=\"1\" class=\"dataframe\">\n",
              "  <thead>\n",
              "    <tr style=\"text-align: right;\">\n",
              "      <th></th>\n",
              "      <th>Survived</th>\n",
              "      <th>Pclass</th>\n",
              "      <th>Sex</th>\n",
              "      <th>Age</th>\n",
              "      <th>Fare</th>\n",
              "      <th>familia</th>\n",
              "      <th>1</th>\n",
              "      <th>2</th>\n",
              "      <th>3</th>\n",
              "    </tr>\n",
              "    <tr>\n",
              "      <th>PassengerId</th>\n",
              "      <th></th>\n",
              "      <th></th>\n",
              "      <th></th>\n",
              "      <th></th>\n",
              "      <th></th>\n",
              "      <th></th>\n",
              "      <th></th>\n",
              "      <th></th>\n",
              "      <th></th>\n",
              "    </tr>\n",
              "  </thead>\n",
              "  <tbody>\n",
              "    <tr>\n",
              "      <th>1</th>\n",
              "      <td>0</td>\n",
              "      <td>3</td>\n",
              "      <td>0</td>\n",
              "      <td>0.271174</td>\n",
              "      <td>0.014151</td>\n",
              "      <td>1</td>\n",
              "      <td>0.0</td>\n",
              "      <td>0.0</td>\n",
              "      <td>1.0</td>\n",
              "    </tr>\n",
              "    <tr>\n",
              "      <th>2</th>\n",
              "      <td>1</td>\n",
              "      <td>1</td>\n",
              "      <td>1</td>\n",
              "      <td>0.472229</td>\n",
              "      <td>0.139136</td>\n",
              "      <td>1</td>\n",
              "      <td>1.0</td>\n",
              "      <td>0.0</td>\n",
              "      <td>0.0</td>\n",
              "    </tr>\n",
              "    <tr>\n",
              "      <th>3</th>\n",
              "      <td>1</td>\n",
              "      <td>3</td>\n",
              "      <td>1</td>\n",
              "      <td>0.321438</td>\n",
              "      <td>0.015469</td>\n",
              "      <td>0</td>\n",
              "      <td>0.0</td>\n",
              "      <td>0.0</td>\n",
              "      <td>1.0</td>\n",
              "    </tr>\n",
              "    <tr>\n",
              "      <th>4</th>\n",
              "      <td>1</td>\n",
              "      <td>1</td>\n",
              "      <td>1</td>\n",
              "      <td>0.434531</td>\n",
              "      <td>0.103644</td>\n",
              "      <td>1</td>\n",
              "      <td>1.0</td>\n",
              "      <td>0.0</td>\n",
              "      <td>0.0</td>\n",
              "    </tr>\n",
              "    <tr>\n",
              "      <th>5</th>\n",
              "      <td>0</td>\n",
              "      <td>3</td>\n",
              "      <td>0</td>\n",
              "      <td>0.434531</td>\n",
              "      <td>0.015713</td>\n",
              "      <td>0</td>\n",
              "      <td>0.0</td>\n",
              "      <td>0.0</td>\n",
              "      <td>1.0</td>\n",
              "    </tr>\n",
              "  </tbody>\n",
              "</table>\n",
              "</div>\n",
              "      <button class=\"colab-df-convert\" onclick=\"convertToInteractive('df-632b6719-6f51-4ead-89d0-2050b628d29f')\"\n",
              "              title=\"Convert this dataframe to an interactive table.\"\n",
              "              style=\"display:none;\">\n",
              "        \n",
              "  <svg xmlns=\"http://www.w3.org/2000/svg\" height=\"24px\"viewBox=\"0 0 24 24\"\n",
              "       width=\"24px\">\n",
              "    <path d=\"M0 0h24v24H0V0z\" fill=\"none\"/>\n",
              "    <path d=\"M18.56 5.44l.94 2.06.94-2.06 2.06-.94-2.06-.94-.94-2.06-.94 2.06-2.06.94zm-11 1L8.5 8.5l.94-2.06 2.06-.94-2.06-.94L8.5 2.5l-.94 2.06-2.06.94zm10 10l.94 2.06.94-2.06 2.06-.94-2.06-.94-.94-2.06-.94 2.06-2.06.94z\"/><path d=\"M17.41 7.96l-1.37-1.37c-.4-.4-.92-.59-1.43-.59-.52 0-1.04.2-1.43.59L10.3 9.45l-7.72 7.72c-.78.78-.78 2.05 0 2.83L4 21.41c.39.39.9.59 1.41.59.51 0 1.02-.2 1.41-.59l7.78-7.78 2.81-2.81c.8-.78.8-2.07 0-2.86zM5.41 20L4 18.59l7.72-7.72 1.47 1.35L5.41 20z\"/>\n",
              "  </svg>\n",
              "      </button>\n",
              "      \n",
              "  <style>\n",
              "    .colab-df-container {\n",
              "      display:flex;\n",
              "      flex-wrap:wrap;\n",
              "      gap: 12px;\n",
              "    }\n",
              "\n",
              "    .colab-df-convert {\n",
              "      background-color: #E8F0FE;\n",
              "      border: none;\n",
              "      border-radius: 50%;\n",
              "      cursor: pointer;\n",
              "      display: none;\n",
              "      fill: #1967D2;\n",
              "      height: 32px;\n",
              "      padding: 0 0 0 0;\n",
              "      width: 32px;\n",
              "    }\n",
              "\n",
              "    .colab-df-convert:hover {\n",
              "      background-color: #E2EBFA;\n",
              "      box-shadow: 0px 1px 2px rgba(60, 64, 67, 0.3), 0px 1px 3px 1px rgba(60, 64, 67, 0.15);\n",
              "      fill: #174EA6;\n",
              "    }\n",
              "\n",
              "    [theme=dark] .colab-df-convert {\n",
              "      background-color: #3B4455;\n",
              "      fill: #D2E3FC;\n",
              "    }\n",
              "\n",
              "    [theme=dark] .colab-df-convert:hover {\n",
              "      background-color: #434B5C;\n",
              "      box-shadow: 0px 1px 3px 1px rgba(0, 0, 0, 0.15);\n",
              "      filter: drop-shadow(0px 1px 2px rgba(0, 0, 0, 0.3));\n",
              "      fill: #FFFFFF;\n",
              "    }\n",
              "  </style>\n",
              "\n",
              "      <script>\n",
              "        const buttonEl =\n",
              "          document.querySelector('#df-632b6719-6f51-4ead-89d0-2050b628d29f button.colab-df-convert');\n",
              "        buttonEl.style.display =\n",
              "          google.colab.kernel.accessAllowed ? 'block' : 'none';\n",
              "\n",
              "        async function convertToInteractive(key) {\n",
              "          const element = document.querySelector('#df-632b6719-6f51-4ead-89d0-2050b628d29f');\n",
              "          const dataTable =\n",
              "            await google.colab.kernel.invokeFunction('convertToInteractive',\n",
              "                                                     [key], {});\n",
              "          if (!dataTable) return;\n",
              "\n",
              "          const docLinkHtml = 'Like what you see? Visit the ' +\n",
              "            '<a target=\"_blank\" href=https://colab.research.google.com/notebooks/data_table.ipynb>data table notebook</a>'\n",
              "            + ' to learn more about interactive tables.';\n",
              "          element.innerHTML = '';\n",
              "          dataTable['output_type'] = 'display_data';\n",
              "          await google.colab.output.renderOutput(dataTable, element);\n",
              "          const docLink = document.createElement('div');\n",
              "          docLink.innerHTML = docLinkHtml;\n",
              "          element.appendChild(docLink);\n",
              "        }\n",
              "      </script>\n",
              "    </div>\n",
              "  </div>\n",
              "  "
            ]
          },
          "metadata": {},
          "execution_count": 8
        }
      ]
    },
    {
      "cell_type": "code",
      "source": [
        "def pca_(df):\n",
        "  pca = PCA(n_components = 2)\n",
        "  pca.fit(df)\n",
        "  data_transf = pca.transform(df)\n",
        "  data_transf.shape\n",
        "\n",
        "  return  data_transf[:, 0],  data_transf[:, 1]"
      ],
      "metadata": {
        "id": "_KT0zEi6cV0n"
      },
      "execution_count": 24,
      "outputs": []
    },
    {
      "cell_type": "code",
      "source": [
        "data_transf0,  data_transf1 = pca_(df)\n",
        "df_final = pd.DataFrame({'PCA1': data_transf0,\n",
        "                         'PCA2': data_transf1,\n",
        "                         'Survived': df.Survived \n",
        "                         }, index = df.index)\n",
        "\n",
        "plt.figure(figsize=(3,2))\n",
        "plt.scatter(data=df_final, x='PCA1', y='PCA2')\n",
        "plt.xlabel('PCA1')\n",
        "plt.ylabel('PCA2')\n",
        "plt.title('Gráfico de Dispersión PCA1 vs PCA2')\n",
        "plt.show()\n",
        "\n",
        "var_pca = pd.DataFrame({\n",
        "    'columnas': ['PCA1', 'PCA2'],\n",
        "    'var': pca.explained_variance_ratio_\n",
        "})\n",
        "sns.barplot(data = var_pca, x = 'columnas', y = 'var')"
      ],
      "metadata": {
        "colab": {
          "base_uri": "https://localhost:8080/",
          "height": 707
        },
        "id": "mnwtCYkoafGi",
        "outputId": "f2c0d6d4-22df-4af3-c06d-01ade953463b"
      },
      "execution_count": 25,
      "outputs": [
        {
          "output_type": "display_data",
          "data": {
            "text/plain": [
              "<Figure size 300x200 with 1 Axes>"
            ],
            "image/png": "[encoded data removed]"
          },
          "metadata": {}
        },
        {
          "output_type": "execute_result",
          "data": {
            "text/plain": [
              "<Axes: xlabel='columnas', ylabel='var'>"
            ]
          },
          "metadata": {},
          "execution_count": 25
        },
        {
          "output_type": "display_data",
          "data": {
            "text/plain": [
              "<Figure size 640x480 with 1 Axes>"
            ],
            "image/png": "[encoded data removed]"
          },
          "metadata": {}
        }
      ]
    },
    {
      "cell_type": "code",
      "source": [
        "X_train, X_test, y_train, y_test = split(df_final)\n",
        "modelos_lista = [RandomForestClassifier(), DecisionTreeClassifier(), KNeighborsClassifier(), LogisticRegression()]\n",
        "for i in modelos_lista:\n",
        "  modelo = modelar(i, X_train, y_train)\n",
        "  acc = predecir(modelo, X_test, y_test, accuracy_score)\n",
        "  print(f\"Modelo: {i}, score:\", acc)"
      ],
      "metadata": {
        "colab": {
          "base_uri": "https://localhost:8080/"
        },
        "id": "XnITSiAvaq-C",
        "outputId": "4318d685-86c5-4dcf-95e9-7b68e49d46b2"
      },
      "execution_count": 26,
      "outputs": [
        {
          "output_type": "stream",
          "name": "stdout",
          "text": [
            "Modelo: RandomForestClassifier(), score: 0.97\n",
            "Modelo: DecisionTreeClassifier(), score: 0.96\n",
            "Modelo: KNeighborsClassifier(), score: 0.902\n",
            "Modelo: LogisticRegression(), score: 0.688\n"
          ]
        }
      ]
    },
    {
      "cell_type": "code",
      "source": [
        "test = pd.read_csv('/content/Titanic_2.0/Datasets_originales/test.csv').set_index('PassengerId')\n",
        "test = edit(test)\n",
        "test.Fare.fillna(test.Fare.mean(), inplace=True)"
      ],
      "metadata": {
        "id": "Nm2kHgpQaud0"
      },
      "execution_count": 27,
      "outputs": []
    },
    {
      "cell_type": "code",
      "source": [
        "data_transf0,  data_transf1 = pca_(test)\n",
        "df_final = pd.DataFrame({'PCA1': data_transf0,\n",
        "                         'PCA2': data_transf1\n",
        "                         }, index = test.index)\n"
      ],
      "metadata": {
        "id": "9xsGAF9xcRXJ"
      },
      "execution_count": 28,
      "outputs": []
    },
    {
      "cell_type": "code",
      "source": [
        "modelo_rf = modelar(KNeighborsClassifier(), X_train, y_train)"
      ],
      "metadata": {
        "id": "wjU6ntJDdMLO"
      },
      "execution_count": 40,
      "outputs": []
    },
    {
      "cell_type": "code",
      "source": [
        "X_test = df_final.filter(['PCA1',\t'PCA2'], axis=1)"
      ],
      "metadata": {
        "id": "HiLSrbOjeKcO"
      },
      "execution_count": 41,
      "outputs": []
    },
    {
      "cell_type": "code",
      "source": [
        "test_rdo_knn = rdo(test, predecir_rdo(modelo_rf, X_test))\n",
        "test_rdo_knn.to_csv('knn1.csv')"
      ],
      "metadata": {
        "id": "NcSrVWfOc84_"
      },
      "execution_count": 42,
      "outputs": []
    },
    {
      "cell_type": "code",
      "source": [],
      "metadata": {
        "id": "EDo7_2jBduA2"
      },
      "execution_count": null,
      "outputs": []
    }
  ]
}