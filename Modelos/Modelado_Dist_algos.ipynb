{
  "nbformat": 4,
  "nbformat_minor": 0,
  "metadata": {
    "colab": {
      "provenance": [],
      "authorship_tag": "ABX9TyPYb8mrRlJOGzR9F6JoUN52",
      "include_colab_link": true
    },
    "kernelspec": {
      "name": "python3",
      "display_name": "Python 3"
    },
    "language_info": {
      "name": "python"
    }
  },
  "cells": [
    {
      "cell_type": "markdown",
      "metadata": {
        "id": "view-in-github",
        "colab_type": "text"
      },
      "source": [
        "<a href=\"https://colab.research.google.com/github/fowardelcac/Titanic_2.0/blob/main/Modelos/Modelado_Dist_algos.ipynb\" target=\"_parent\"><img src=\"https://colab.research.google.com/assets/colab-badge.svg\" alt=\"Open In Colab\"/></a>"
      ]
    },
    {
      "cell_type": "code",
      "execution_count": 1,
      "metadata": {
        "colab": {
          "base_uri": "https://localhost:8080/"
        },
        "id": "CcpdE0Atf8ZL",
        "outputId": "fed1dc81-e55a-47a7-b8cc-bf3034884541"
      },
      "outputs": [
        {
          "output_type": "stream",
          "name": "stdout",
          "text": [
            "Cloning into 'Titanic_2.0'...\n",
            "remote: Enumerating objects: 121, done.\u001b[K\n",
            "remote: Counting objects: 100% (121/121), done.\u001b[K\n",
            "remote: Compressing objects: 100% (112/112), done.\u001b[K\n",
            "remote: Total 121 (delta 41), reused 0 (delta 0), pack-reused 0\u001b[K\n",
            "Receiving objects: 100% (121/121), 155.51 KiB | 7.07 MiB/s, done.\n",
            "Resolving deltas: 100% (41/41), done.\n"
          ]
        }
      ],
      "source": [
        "! git clone https://github.com/fowardelcac/Titanic_2.0.git"
      ]
    },
    {
      "cell_type": "code",
      "source": [
        "import pandas as pd\n",
        "import numpy as np\n",
        "import matplotlib.pyplot as plt\n",
        "import seaborn as sns\n",
        "import random\n",
        "import warnings\n",
        "\n",
        "from sklearn.metrics import accuracy_score\n",
        "from sklearn.model_selection import train_test_split\n",
        "from sklearn.model_selection import GridSearchCV\n",
        "from sklearn.preprocessing import OneHotEncoder\n",
        "from sklearn.preprocessing import MinMaxScaler\n",
        "\n",
        "from sklearn.linear_model import LogisticRegression\n",
        "from sklearn.neighbors import KNeighborsClassifier\n",
        "from sklearn.tree import DecisionTreeClassifier\n",
        "from sklearn.ensemble import RandomForestClassifier"
      ],
      "metadata": {
        "id": "B4wFg-MHgFg_"
      },
      "execution_count": 2,
      "outputs": []
    },
    {
      "cell_type": "markdown",
      "source": [
        "# Funciones"
      ],
      "metadata": {
        "id": "BycU2jT1lROW"
      }
    },
    {
      "cell_type": "code",
      "source": [
        "def split(df):\n",
        "  n = len(df.columns) - 1\n",
        "  X = df.drop('Survived', axis=1).values.reshape((-1, n))\n",
        "  y = df.Survived\n",
        "  X_train, X_test, y_train, y_test = train_test_split(X, y, train_size = 0.3, random_state = 42)\n",
        "  return X_train, X_test, y_train, y_test"
      ],
      "metadata": {
        "id": "nCU5MmbVUgIB"
      },
      "execution_count": 3,
      "outputs": []
    },
    {
      "cell_type": "code",
      "source": [
        "def modelar(modelo, X_train, y_train):\n",
        "   return modelo.fit(X_train, y_train) "
      ],
      "metadata": {
        "id": "PGRkLUZphNGt"
      },
      "execution_count": 4,
      "outputs": []
    },
    {
      "cell_type": "code",
      "source": [
        "def predecir(modelo, X_test, y_test, accuracy_score):\n",
        "  y_pred = modelo.predict(X_test)\n",
        "  score = round(accuracy_score(y_test, y_pred), 3)\n",
        "  return score\n",
        "\n",
        "def predecir_rdo(modelo, X_test, y_test):\n",
        "  return modelo.predict(X_test)"
      ],
      "metadata": {
        "id": "KTGwtpbBjhsI"
      },
      "execution_count": 110,
      "outputs": []
    },
    {
      "cell_type": "code",
      "source": [
        "def edit_age(df):\n",
        "  serie = df['Age'].dropna()\n",
        "  # Obtener la cantidad de valores nulos en la columna 'Age'\n",
        "  size = df['Age'].isna().sum()\n",
        "  # Generar una nueva Serie con valores aleatorios de la Serie 'serie'\n",
        "  random_values = np.random.choice(serie, size=size)\n",
        "  # Reemplazar los valores NaN en la columna 'Age' con los valores aleatorios\n",
        "  df.loc[df['Age'].isna(), 'Age'] = random_values\n",
        "  return df"
      ],
      "metadata": {
        "id": "b_FOFglummr7"
      },
      "execution_count": 6,
      "outputs": []
    },
    {
      "cell_type": "code",
      "source": [
        "def onehot(df):\n",
        "  encoder = OneHotEncoder()\n",
        "  data = pd.DataFrame(encoder.fit_transform(df['Pclass'].values.reshape(-1, 1)).toarray(), columns=['1', '2', '3'])\n",
        "  return data"
      ],
      "metadata": {
        "id": "EjSRUYO_Nw-1"
      },
      "execution_count": 7,
      "outputs": []
    },
    {
      "cell_type": "code",
      "source": [
        "def edit(df):\n",
        "  df = edit_age(df)\n",
        "\n",
        "  mapeo = {'male': 0, 'female': 1}\n",
        "  df.Sex = df.Sex.map(mapeo)\n",
        "  \n",
        "  df['familia'] = df.SibSp + df.Parch\n",
        "\n",
        "  data = onehot(df)\n",
        "  df.reset_index('PassengerId', inplace=True)\n",
        "  df = pd.concat([df, data], axis=1).set_index('PassengerId')\n",
        "\n",
        "  scaler = MinMaxScaler().fit_transform(df['Fare'].values.reshape(-1, 1))\n",
        "  scaled_series = pd.Series(scaler.flatten(), index=df.index)\n",
        "  df.Fare = scaled_series\n",
        "\n",
        "  df.drop(['SibSp', 'Parch', 'Cabin', 'Ticket', 'Name', 'Pclass', 'Embarked'], axis = 1, inplace = True)\n",
        "  return df   "
      ],
      "metadata": {
        "id": "DQv7-uWZl_wr"
      },
      "execution_count": 8,
      "outputs": []
    },
    {
      "cell_type": "code",
      "source": [
        "def modelar_():\n",
        "  modelos_lista = [RandomForestClassifier(), DecisionTreeClassifier(), KNeighborsClassifier(), LogisticRegression()]\n",
        "  data = create_df_azar(df)\n",
        "  cols_d = data.columns[:-1]\n",
        "  \n",
        "  X_train, X_test, y_train, y_test = split(data)\n",
        "  dic_m = {}\n",
        "  for i in modelos_lista:  \n",
        "    modelo = modelar(i, X_train, y_train)\n",
        "    acc = predecir(modelo, X_test, y_test, accuracy_score)\n",
        "    dic_m[i] = [cols_d, acc]\n",
        "  return dic_m"
      ],
      "metadata": {
        "id": "9bRALKnZu_7F"
      },
      "execution_count": 16,
      "outputs": []
    },
    {
      "cell_type": "code",
      "source": [
        "def random_samples():\n",
        "  columnas = ['Sex', 'Age', 'Fare', 'familia', '1', '2', '3']\n",
        "  n_col =  random.randint(1, len(columnas))\n",
        "  random_c = random.sample(columnas, n_col)\n",
        "  return random_c\n",
        "\n",
        "def create_df_azar(df):\n",
        "  columnas = random_samples()\n",
        "  data = df.filter(columnas, axis = 1)\n",
        "  data['Survived'] = df.Survived\n",
        "  return data"
      ],
      "metadata": {
        "id": "sUqnLHbTvHS3"
      },
      "execution_count": 15,
      "outputs": []
    },
    {
      "cell_type": "code",
      "source": [
        "def grid(modelo, params, X_train, y_train):\n",
        "  grid_rf = GridSearchCV(modelo, params, cv = 5).fit(X_train, y_train)\n",
        "  mejores_parametros = grid_rf.best_params_\n",
        "  mejor_score = grid_rf.best_score_\n",
        "\n",
        "  print(\"Mejores parámetros:\", mejores_parametros)\n",
        "  print(\"Mejor score:\", mejor_score)"
      ],
      "metadata": {
        "id": "A3uVJsqce_dk"
      },
      "execution_count": 103,
      "outputs": []
    },
    {
      "cell_type": "code",
      "source": [
        "df = pd.read_csv('/content/Titanic_2.0/Datasets_originales/train.csv').set_index('PassengerId')"
      ],
      "metadata": {
        "id": "d4dthjwZj4am"
      },
      "execution_count": 9,
      "outputs": []
    },
    {
      "cell_type": "code",
      "source": [
        "df = edit(df)\n",
        "df.head()"
      ],
      "metadata": {
        "colab": {
          "base_uri": "https://localhost:8080/",
          "height": 238
        },
        "id": "Vgf0WmMKlbia",
        "outputId": "b5bbc5d8-a2c7-43f6-959f-485a3beddfc7"
      },
      "execution_count": 10,
      "outputs": [
        {
          "output_type": "execute_result",
          "data": {
            "text/plain": [
              "             Survived  Sex   Age      Fare  familia    1    2    3\n",
              "PassengerId                                                       \n",
              "1                   0    0  22.0  0.014151        1  0.0  0.0  1.0\n",
              "2                   1    1  38.0  0.139136        1  1.0  0.0  0.0\n",
              "3                   1    1  26.0  0.015469        0  0.0  0.0  1.0\n",
              "4                   1    1  35.0  0.103644        1  1.0  0.0  0.0\n",
              "5                   0    0  35.0  0.015713        0  0.0  0.0  1.0"
            ],
            "text/html": [
              "\n",
              "  <div id=\"df-a8a73b9f-1302-4e73-82f0-4759f24fd3df\">\n",
              "    <div class=\"colab-df-container\">\n",
              "      <div>\n",
              "<style scoped>\n",
              "    .dataframe tbody tr th:only-of-type {\n",
              "        vertical-align: middle;\n",
              "    }\n",
              "\n",
              "    .dataframe tbody tr th {\n",
              "        vertical-align: top;\n",
              "    }\n",
              "\n",
              "    .dataframe thead th {\n",
              "        text-align: right;\n",
              "    }\n",
              "</style>\n",
              "<table border=\"1\" class=\"dataframe\">\n",
              "  <thead>\n",
              "    <tr style=\"text-align: right;\">\n",
              "      <th></th>\n",
              "      <th>Survived</th>\n",
              "      <th>Sex</th>\n",
              "      <th>Age</th>\n",
              "      <th>Fare</th>\n",
              "      <th>familia</th>\n",
              "      <th>1</th>\n",
              "      <th>2</th>\n",
              "      <th>3</th>\n",
              "    </tr>\n",
              "    <tr>\n",
              "      <th>PassengerId</th>\n",
              "      <th></th>\n",
              "      <th></th>\n",
              "      <th></th>\n",
              "      <th></th>\n",
              "      <th></th>\n",
              "      <th></th>\n",
              "      <th></th>\n",
              "      <th></th>\n",
              "    </tr>\n",
              "  </thead>\n",
              "  <tbody>\n",
              "    <tr>\n",
              "      <th>1</th>\n",
              "      <td>0</td>\n",
              "      <td>0</td>\n",
              "      <td>22.0</td>\n",
              "      <td>0.014151</td>\n",
              "      <td>1</td>\n",
              "      <td>0.0</td>\n",
              "      <td>0.0</td>\n",
              "      <td>1.0</td>\n",
              "    </tr>\n",
              "    <tr>\n",
              "      <th>2</th>\n",
              "      <td>1</td>\n",
              "      <td>1</td>\n",
              "      <td>38.0</td>\n",
              "      <td>0.139136</td>\n",
              "      <td>1</td>\n",
              "      <td>1.0</td>\n",
              "      <td>0.0</td>\n",
              "      <td>0.0</td>\n",
              "    </tr>\n",
              "    <tr>\n",
              "      <th>3</th>\n",
              "      <td>1</td>\n",
              "      <td>1</td>\n",
              "      <td>26.0</td>\n",
              "      <td>0.015469</td>\n",
              "      <td>0</td>\n",
              "      <td>0.0</td>\n",
              "      <td>0.0</td>\n",
              "      <td>1.0</td>\n",
              "    </tr>\n",
              "    <tr>\n",
              "      <th>4</th>\n",
              "      <td>1</td>\n",
              "      <td>1</td>\n",
              "      <td>35.0</td>\n",
              "      <td>0.103644</td>\n",
              "      <td>1</td>\n",
              "      <td>1.0</td>\n",
              "      <td>0.0</td>\n",
              "      <td>0.0</td>\n",
              "    </tr>\n",
              "    <tr>\n",
              "      <th>5</th>\n",
              "      <td>0</td>\n",
              "      <td>0</td>\n",
              "      <td>35.0</td>\n",
              "      <td>0.015713</td>\n",
              "      <td>0</td>\n",
              "      <td>0.0</td>\n",
              "      <td>0.0</td>\n",
              "      <td>1.0</td>\n",
              "    </tr>\n",
              "  </tbody>\n",
              "</table>\n",
              "</div>\n",
              "      <button class=\"colab-df-convert\" onclick=\"convertToInteractive('df-a8a73b9f-1302-4e73-82f0-4759f24fd3df')\"\n",
              "              title=\"Convert this dataframe to an interactive table.\"\n",
              "              style=\"display:none;\">\n",
              "        \n",
              "  <svg xmlns=\"http://www.w3.org/2000/svg\" height=\"24px\"viewBox=\"0 0 24 24\"\n",
              "       width=\"24px\">\n",
              "    <path d=\"M0 0h24v24H0V0z\" fill=\"none\"/>\n",
              "    <path d=\"M18.56 5.44l.94 2.06.94-2.06 2.06-.94-2.06-.94-.94-2.06-.94 2.06-2.06.94zm-11 1L8.5 8.5l.94-2.06 2.06-.94-2.06-.94L8.5 2.5l-.94 2.06-2.06.94zm10 10l.94 2.06.94-2.06 2.06-.94-2.06-.94-.94-2.06-.94 2.06-2.06.94z\"/><path d=\"M17.41 7.96l-1.37-1.37c-.4-.4-.92-.59-1.43-.59-.52 0-1.04.2-1.43.59L10.3 9.45l-7.72 7.72c-.78.78-.78 2.05 0 2.83L4 21.41c.39.39.9.59 1.41.59.51 0 1.02-.2 1.41-.59l7.78-7.78 2.81-2.81c.8-.78.8-2.07 0-2.86zM5.41 20L4 18.59l7.72-7.72 1.47 1.35L5.41 20z\"/>\n",
              "  </svg>\n",
              "      </button>\n",
              "      \n",
              "  <style>\n",
              "    .colab-df-container {\n",
              "      display:flex;\n",
              "      flex-wrap:wrap;\n",
              "      gap: 12px;\n",
              "    }\n",
              "\n",
              "    .colab-df-convert {\n",
              "      background-color: #E8F0FE;\n",
              "      border: none;\n",
              "      border-radius: 50%;\n",
              "      cursor: pointer;\n",
              "      display: none;\n",
              "      fill: #1967D2;\n",
              "      height: 32px;\n",
              "      padding: 0 0 0 0;\n",
              "      width: 32px;\n",
              "    }\n",
              "\n",
              "    .colab-df-convert:hover {\n",
              "      background-color: #E2EBFA;\n",
              "      box-shadow: 0px 1px 2px rgba(60, 64, 67, 0.3), 0px 1px 3px 1px rgba(60, 64, 67, 0.15);\n",
              "      fill: #174EA6;\n",
              "    }\n",
              "\n",
              "    [theme=dark] .colab-df-convert {\n",
              "      background-color: #3B4455;\n",
              "      fill: #D2E3FC;\n",
              "    }\n",
              "\n",
              "    [theme=dark] .colab-df-convert:hover {\n",
              "      background-color: #434B5C;\n",
              "      box-shadow: 0px 1px 3px 1px rgba(0, 0, 0, 0.15);\n",
              "      filter: drop-shadow(0px 1px 2px rgba(0, 0, 0, 0.3));\n",
              "      fill: #FFFFFF;\n",
              "    }\n",
              "  </style>\n",
              "\n",
              "      <script>\n",
              "        const buttonEl =\n",
              "          document.querySelector('#df-a8a73b9f-1302-4e73-82f0-4759f24fd3df button.colab-df-convert');\n",
              "        buttonEl.style.display =\n",
              "          google.colab.kernel.accessAllowed ? 'block' : 'none';\n",
              "\n",
              "        async function convertToInteractive(key) {\n",
              "          const element = document.querySelector('#df-a8a73b9f-1302-4e73-82f0-4759f24fd3df');\n",
              "          const dataTable =\n",
              "            await google.colab.kernel.invokeFunction('convertToInteractive',\n",
              "                                                     [key], {});\n",
              "          if (!dataTable) return;\n",
              "\n",
              "          const docLinkHtml = 'Like what you see? Visit the ' +\n",
              "            '<a target=\"_blank\" href=https://colab.research.google.com/notebooks/data_table.ipynb>data table notebook</a>'\n",
              "            + ' to learn more about interactive tables.';\n",
              "          element.innerHTML = '';\n",
              "          dataTable['output_type'] = 'display_data';\n",
              "          await google.colab.output.renderOutput(dataTable, element);\n",
              "          const docLink = document.createElement('div');\n",
              "          docLink.innerHTML = docLinkHtml;\n",
              "          element.appendChild(docLink);\n",
              "        }\n",
              "      </script>\n",
              "    </div>\n",
              "  </div>\n",
              "  "
            ]
          },
          "metadata": {},
          "execution_count": 10
        }
      ]
    },
    {
      "cell_type": "code",
      "source": [
        "scaler = MinMaxScaler().fit_transform(df['Age'].values.reshape(-1, 1))\n",
        "scaled_series = pd.Series(scaler.flatten(), index=df.index)\n",
        "df.Age = scaled_series\n"
      ],
      "metadata": {
        "id": "7-rVOE4eY2z1"
      },
      "execution_count": 11,
      "outputs": []
    },
    {
      "cell_type": "code",
      "source": [
        "X_train, X_test, y_train, y_test = split(df)"
      ],
      "metadata": {
        "id": "RdmJRPb7OSjK"
      },
      "execution_count": 12,
      "outputs": []
    },
    {
      "cell_type": "code",
      "source": [
        "modelos_lista = [RandomForestClassifier(), DecisionTreeClassifier(), KNeighborsClassifier(), LogisticRegression()]"
      ],
      "metadata": {
        "id": "FGFn-slcYVzy"
      },
      "execution_count": 13,
      "outputs": []
    },
    {
      "cell_type": "markdown",
      "source": [
        "Sex\tAge\tFare\tfamilia\t1\t2\t3 age y fare escaladas\n",
        "\n"
      ],
      "metadata": {
        "id": "B3mC0bJXZRfk"
      }
    },
    {
      "cell_type": "code",
      "source": [
        "for i in modelos_lista:\n",
        "  modelo = modelar(i, X_train, y_train)\n",
        "  acc = predecir(modelo, X_test, y_test, accuracy_score)\n",
        "  print(f\"Modelo: {i}, score:\", acc)"
      ],
      "metadata": {
        "colab": {
          "base_uri": "https://localhost:8080/"
        },
        "id": "pfczM35NYgah",
        "outputId": "d9d922e9-206e-431c-9ff0-c228fe19c4b6"
      },
      "execution_count": 14,
      "outputs": [
        {
          "output_type": "stream",
          "name": "stdout",
          "text": [
            "Modelo: RandomForestClassifier(), score: 0.792\n",
            "Modelo: DecisionTreeClassifier(), score: 0.74\n",
            "Modelo: KNeighborsClassifier(), score: 0.808\n",
            "Modelo: LogisticRegression(), score: 0.8\n"
          ]
        }
      ]
    },
    {
      "cell_type": "code",
      "source": [
        "lista_dic =[]\n",
        "for i in range(15):\n",
        "  lista_dic.append(modelar_())"
      ],
      "metadata": {
        "id": "8AcupxJkzagN"
      },
      "execution_count": 71,
      "outputs": []
    },
    {
      "cell_type": "code",
      "source": [
        "lista_dic[0].keys()"
      ],
      "metadata": {
        "colab": {
          "base_uri": "https://localhost:8080/"
        },
        "id": "P0fozUKbaAZp",
        "outputId": "4d5df9ca-da17-4871-8b49-1af8ace4edbc"
      },
      "execution_count": 77,
      "outputs": [
        {
          "output_type": "execute_result",
          "data": {
            "text/plain": [
              "dict_keys([RandomForestClassifier(), DecisionTreeClassifier(), KNeighborsClassifier(), LogisticRegression()])"
            ]
          },
          "metadata": {},
          "execution_count": 77
        }
      ]
    },
    {
      "cell_type": "code",
      "source": [
        "scores = []\n",
        "for diccionario in lista_dic:\n",
        "    for item in diccionario.values():\n",
        "        scores.append(item[1])\n",
        "\n",
        "for index, diccionario in enumerate(lista_dic):\n",
        "    for clave in diccionario.keys():\n",
        "        print(index+1, clave, ':', diccionario[clave][1])\n",
        "        print('*' * 50)"
      ],
      "metadata": {
        "colab": {
          "base_uri": "https://localhost:8080/"
        },
        "id": "-GH7w4A8Vghu",
        "outputId": "36a4aab8-1383-46fa-cbe6-741c772c72a6"
      },
      "execution_count": 85,
      "outputs": [
        {
          "output_type": "stream",
          "name": "stdout",
          "text": [
            "1 RandomForestClassifier() : 0.646\n",
            "1 DecisionTreeClassifier() : 0.646\n",
            "1 KNeighborsClassifier() : 0.657\n",
            "1 LogisticRegression() : 0.715\n",
            "2 RandomForestClassifier() : 0.788\n",
            "2 DecisionTreeClassifier() : 0.734\n",
            "2 KNeighborsClassifier() : 0.801\n",
            "2 LogisticRegression() : 0.798\n",
            "3 RandomForestClassifier() : 0.771\n",
            "3 DecisionTreeClassifier() : 0.769\n",
            "3 KNeighborsClassifier() : 0.766\n",
            "3 LogisticRegression() : 0.79\n",
            "4 RandomForestClassifier() : 0.792\n",
            "4 DecisionTreeClassifier() : 0.737\n",
            "4 KNeighborsClassifier() : 0.785\n",
            "4 LogisticRegression() : 0.792\n",
            "5 RandomForestClassifier() : 0.652\n",
            "5 DecisionTreeClassifier() : 0.614\n",
            "5 KNeighborsClassifier() : 0.684\n",
            "5 LogisticRegression() : 0.707\n",
            "6 RandomForestClassifier() : 0.609\n",
            "6 DecisionTreeClassifier() : 0.609\n",
            "6 KNeighborsClassifier() : 0.609\n",
            "6 LogisticRegression() : 0.609\n",
            "7 RandomForestClassifier() : 0.644\n",
            "7 DecisionTreeClassifier() : 0.633\n",
            "7 KNeighborsClassifier() : 0.662\n",
            "7 LogisticRegression() : 0.668\n",
            "8 RandomForestClassifier() : 0.758\n",
            "8 DecisionTreeClassifier() : 0.76\n",
            "8 KNeighborsClassifier() : 0.787\n",
            "8 LogisticRegression() : 0.785\n",
            "9 RandomForestClassifier() : 0.787\n",
            "9 DecisionTreeClassifier() : 0.787\n",
            "9 KNeighborsClassifier() : 0.788\n",
            "9 LogisticRegression() : 0.787\n",
            "10 RandomForestClassifier() : 0.62\n",
            "10 DecisionTreeClassifier() : 0.636\n",
            "10 KNeighborsClassifier() : 0.651\n",
            "10 LogisticRegression() : 0.707\n",
            "11 RandomForestClassifier() : 0.79\n",
            "11 DecisionTreeClassifier() : 0.768\n",
            "11 KNeighborsClassifier() : 0.792\n",
            "11 LogisticRegression() : 0.801\n",
            "12 RandomForestClassifier() : 0.772\n",
            "12 DecisionTreeClassifier() : 0.747\n",
            "12 KNeighborsClassifier() : 0.798\n",
            "12 LogisticRegression() : 0.798\n",
            "13 RandomForestClassifier() : 0.609\n",
            "13 DecisionTreeClassifier() : 0.609\n",
            "13 KNeighborsClassifier() : 0.609\n",
            "13 LogisticRegression() : 0.609\n",
            "14 RandomForestClassifier() : 0.787\n",
            "14 DecisionTreeClassifier() : 0.787\n",
            "14 KNeighborsClassifier() : 0.787\n",
            "14 LogisticRegression() : 0.787\n",
            "15 RandomForestClassifier() : 0.683\n",
            "15 DecisionTreeClassifier() : 0.609\n",
            "15 KNeighborsClassifier() : 0.609\n",
            "15 LogisticRegression() : 0.609\n"
          ]
        }
      ]
    },
    {
      "cell_type": "code",
      "source": [
        "lista_dic[10]"
      ],
      "metadata": {
        "colab": {
          "base_uri": "https://localhost:8080/"
        },
        "id": "uuxG7XTAVgeB",
        "outputId": "06401a56-dc8f-40e7-bf67-8224f7d4bf6f"
      },
      "execution_count": 99,
      "outputs": [
        {
          "output_type": "execute_result",
          "data": {
            "text/plain": [
              "{RandomForestClassifier(): [Index(['familia', 'Sex', '3', 'Fare'], dtype='object'),\n",
              "  0.79],\n",
              " DecisionTreeClassifier(): [Index(['familia', 'Sex', '3', 'Fare'], dtype='object'),\n",
              "  0.768],\n",
              " KNeighborsClassifier(): [Index(['familia', 'Sex', '3', 'Fare'], dtype='object'),\n",
              "  0.792],\n",
              " LogisticRegression(): [Index(['familia', 'Sex', '3', 'Fare'], dtype='object'),\n",
              "  0.801]}"
            ]
          },
          "metadata": {},
          "execution_count": 99
        }
      ]
    },
    {
      "cell_type": "markdown",
      "source": [
        "\n",
        "1. RF:  '3', 'Fare', '2', 'Sex', 'Age', 'familia', '1', -> 0.798 / 'familia', 'Sex', '3', 'Fare' -> 0.79\n",
        "2. Arbol:  '3', 'Fare', '2', 'Sex', 'Age', 'familia', '1', -> 0.756 / 'Sex', '3', -> 0.787\n",
        "3. KNN:   '3', 'Fare', '2', 'Sex', 'Age', 'familia', '1', -> 0.808 / 'Fare', 'familia', 'Sex', '2', 'Age', '3' -> 0.801\n",
        "4. LR:   'familia', 'Sex', '3', 'Fare', -> 0.801\n"
      ],
      "metadata": {
        "id": "s2sMOfIMWEGX"
      }
    },
    {
      "cell_type": "code",
      "source": [
        "warnings.filterwarnings('ignore')"
      ],
      "metadata": {
        "id": "7b69Cyi5DGbi"
      },
      "execution_count": 93,
      "outputs": []
    },
    {
      "cell_type": "markdown",
      "source": [
        "# Random forest"
      ],
      "metadata": {
        "id": "GB2_SV-DccVL"
      }
    },
    {
      "cell_type": "code",
      "source": [
        "data_rf = df.filter([ 'familia', 'Sex', '3', 'Fare', 'Survived'], axis = 1)\n",
        "X_train, X_test, y_train, y_test = split(data_rf)"
      ],
      "metadata": {
        "id": "2TacWwzrcbsw"
      },
      "execution_count": 100,
      "outputs": []
    },
    {
      "cell_type": "code",
      "source": [
        "modelo_rf = modelar(RandomForestClassifier(), X_train, y_train)\n",
        "acc = predecir(modelo_rf, X_test, y_test, accuracy_score)\n",
        "print(acc)"
      ],
      "metadata": {
        "colab": {
          "base_uri": "https://localhost:8080/"
        },
        "id": "fuynwud9c-bh",
        "outputId": "72a2d0ff-9a12-483f-cb30-6234bdb0154e"
      },
      "execution_count": 101,
      "outputs": [
        {
          "output_type": "stream",
          "name": "stdout",
          "text": [
            "0.785\n"
          ]
        }
      ]
    },
    {
      "cell_type": "code",
      "source": [
        "parametros = {\n",
        "    'n_estimators': [100, 200, 300],  # número de árboles en el bosque\n",
        "    'max_depth': [None, 5, 10],  # profundidad máxima de cada árbol\n",
        "    'min_samples_split': [2, 5, 10],  # número mínimo de muestras requeridas para dividir un nodo\n",
        "    'min_samples_leaf': [1, 2, 4]  # número mínimo de muestras requeridas en cada hoja\n",
        "}\n",
        "\n",
        "grid(RandomForestClassifier(), parametros, X_train, y_train)"
      ],
      "metadata": {
        "colab": {
          "base_uri": "https://localhost:8080/"
        },
        "id": "aOfhA6vxcbbh",
        "outputId": "0a3bef60-2aae-47a7-ee2c-11fb1fe9c820"
      },
      "execution_count": 105,
      "outputs": [
        {
          "output_type": "stream",
          "name": "stdout",
          "text": [
            "Mejores parámetros: {'max_depth': 5, 'min_samples_leaf': 2, 'min_samples_split': 5, 'n_estimators': 300}\n",
            "Mejor score: 0.8167714884696016\n"
          ]
        }
      ]
    },
    {
      "cell_type": "code",
      "source": [
        "modelo_rf = modelar(RandomForestClassifier(max_depth =  5, min_samples_leaf = 2, min_samples_split = 5, n_estimators = 300), X_train, y_train)\n",
        "acc = predecir(modelo_rf, X_test, y_test, accuracy_score)\n",
        "print(acc)"
      ],
      "metadata": {
        "colab": {
          "base_uri": "https://localhost:8080/"
        },
        "id": "yrvEgMbIcbP5",
        "outputId": "5162beb4-eade-4f7b-81ab-60c7550e7ef5"
      },
      "execution_count": 106,
      "outputs": [
        {
          "output_type": "stream",
          "name": "stdout",
          "text": [
            "0.801\n"
          ]
        }
      ]
    },
    {
      "cell_type": "markdown",
      "source": [
        "# Arbol de desicion"
      ],
      "metadata": {
        "id": "WEYT1DokiDag"
      }
    },
    {
      "cell_type": "code",
      "source": [
        "data_a = df.filter([ '3', 'Fare', '2', 'Sex', 'Age', 'familia', '1', 'Survived'], axis = 1)\n",
        "X_train, X_test, y_train, y_test = split(data_a)\n",
        "modelo_tree = modelar(DecisionTreeClassifier(), X_train, y_train)\n",
        "acc = predecir(modelo_tree, X_test, y_test, accuracy_score)\n",
        "print(acc)"
      ],
      "metadata": {
        "colab": {
          "base_uri": "https://localhost:8080/"
        },
        "id": "O7CgegZihdNW",
        "outputId": "a52f16e6-4a44-4e09-926b-d42d0b67c9c6"
      },
      "execution_count": 117,
      "outputs": [
        {
          "output_type": "stream",
          "name": "stdout",
          "text": [
            "0.752\n"
          ]
        }
      ]
    },
    {
      "cell_type": "code",
      "source": [
        "parametros = {\n",
        "    'criterion': ['gini', 'entropy'],\n",
        "    'max_depth': [None, 5, 10, 15],\n",
        "    'min_samples_split': [2, 5, 10],\n",
        "    'min_samples_leaf': [1, 2, 4]\n",
        "}\n",
        "grid(DecisionTreeClassifier(), parametros, X_train, y_train)"
      ],
      "metadata": {
        "colab": {
          "base_uri": "https://localhost:8080/"
        },
        "id": "wRz465ZjgGIk",
        "outputId": "52c5e3ad-0afb-41dc-e274-252c040ef453"
      },
      "execution_count": 118,
      "outputs": [
        {
          "output_type": "stream",
          "name": "stdout",
          "text": [
            "Mejores parámetros: {'criterion': 'entropy', 'max_depth': 5, 'min_samples_leaf': 2, 'min_samples_split': 2}\n",
            "Mejor score: 0.8241788958770091\n"
          ]
        }
      ]
    },
    {
      "cell_type": "code",
      "source": [
        "modelo_tree = modelar(DecisionTreeClassifier(criterion = 'entropy', max_depth = 5, min_samples_leaf = 2, min_samples_split= 2), X_train, y_train)\n",
        "acc = predecir(modelo_tree, X_test, y_test, accuracy_score)\n",
        "print(acc)"
      ],
      "metadata": {
        "colab": {
          "base_uri": "https://localhost:8080/"
        },
        "id": "_J6CIdHXiwup",
        "outputId": "3fc66b7d-0421-48e2-c8de-13804711eeb6"
      },
      "execution_count": 119,
      "outputs": [
        {
          "output_type": "stream",
          "name": "stdout",
          "text": [
            "0.812\n"
          ]
        }
      ]
    },
    {
      "cell_type": "code",
      "source": [],
      "metadata": {
        "id": "jRyLobp9jGOG"
      },
      "execution_count": null,
      "outputs": []
    }
  ]
}