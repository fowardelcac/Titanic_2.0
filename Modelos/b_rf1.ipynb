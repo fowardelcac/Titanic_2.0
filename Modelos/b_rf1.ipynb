{
  "nbformat": 4,
  "nbformat_minor": 0,
  "metadata": {
    "colab": {
      "provenance": [],
      "authorship_tag": "ABX9TyM2kRwzIITvgtHhoWkkHxjT",
      "include_colab_link": true
    },
    "kernelspec": {
      "name": "python3",
      "display_name": "Python 3"
    },
    "language_info": {
      "name": "python"
    }
  },
  "cells": [
    {
      "cell_type": "markdown",
      "metadata": {
        "id": "view-in-github",
        "colab_type": "text"
      },
      "source": [
        "<a href=\"https://colab.research.google.com/github/fowardelcac/Titanic_2.0/blob/main/Modelos/b_rf1.ipynb\" target=\"_parent\"><img src=\"https://colab.research.google.com/assets/colab-badge.svg\" alt=\"Open In Colab\"/></a>"
      ]
    },
    {
      "cell_type": "code",
      "execution_count": 1,
      "metadata": {
        "colab": {
          "base_uri": "https://localhost:8080/"
        },
        "id": "FHaDXSzFVRbo",
        "outputId": "19ee9eaf-1001-4e7e-fee8-b70d5d59069f"
      },
      "outputs": [
        {
          "output_type": "stream",
          "name": "stdout",
          "text": [
            "Cloning into 'Titanic_2.0'...\n",
            "remote: Enumerating objects: 113, done.\u001b[K\n",
            "remote: Counting objects: 100% (113/113), done.\u001b[K\n",
            "remote: Compressing objects: 100% (104/104), done.\u001b[K\n",
            "remote: Total 113 (delta 38), reused 0 (delta 0), pack-reused 0\u001b[K\n",
            "Receiving objects: 100% (113/113), 153.70 KiB | 1.51 MiB/s, done.\n",
            "Resolving deltas: 100% (38/38), done.\n"
          ]
        }
      ],
      "source": [
        "! git clone https://github.com/fowardelcac/Titanic_2.0.git"
      ]
    },
    {
      "cell_type": "code",
      "source": [
        "import pandas as pd\n",
        "import numpy as np\n",
        "\n",
        "from sklearn.ensemble import RandomForestClassifier\n",
        "from sklearn.metrics import accuracy_score"
      ],
      "metadata": {
        "id": "x94GWdCQVR8S"
      },
      "execution_count": 7,
      "outputs": []
    },
    {
      "cell_type": "code",
      "source": [
        "test = pd.read_csv('/content/Titanic_2.0/Datasets_originales/Procesamiento/test_procesado.csv').set_index('PassengerId')\n",
        "train = pd.read_csv('/content/Titanic_2.0/Datasets_originales/Procesamiento/train_procesado.csv').set_index('PassengerId')"
      ],
      "metadata": {
        "id": "NWaLeVzBVUI5"
      },
      "execution_count": 3,
      "outputs": []
    },
    {
      "cell_type": "code",
      "source": [
        "X_train = train[['Sex', 'Pclass', 'Age']].values.reshape((-1, 3))\n",
        "y_train = train.Survived"
      ],
      "metadata": {
        "id": "WKGK_RqpVXGR"
      },
      "execution_count": 4,
      "outputs": []
    },
    {
      "cell_type": "code",
      "source": [
        "X_test = test[['Sex', 'Pclass', 'Age']].values.reshape((-1, 3))"
      ],
      "metadata": {
        "id": "cLOhqP4gVYzp"
      },
      "execution_count": 5,
      "outputs": []
    },
    {
      "cell_type": "code",
      "source": [
        "rf = RandomForestClassifier(criterion = 'entropy', max_depth = 2, n_estimators = 250).fit(X_train, y_train)"
      ],
      "metadata": {
        "id": "WVqW7o1_VaD4"
      },
      "execution_count": 6,
      "outputs": []
    },
    {
      "cell_type": "code",
      "source": [
        "y_pred = rf.predict(X_test)"
      ],
      "metadata": {
        "id": "y2mnD7KlVbdo"
      },
      "execution_count": 8,
      "outputs": []
    },
    {
      "cell_type": "code",
      "source": [
        "rf1 = pd.DataFrame({\n",
        "    'Survived': y_pred\n",
        "}, index= test.index )"
      ],
      "metadata": {
        "id": "XinlX1kjVtZQ"
      },
      "execution_count": 15,
      "outputs": []
    },
    {
      "cell_type": "code",
      "source": [
        "rf1.to_csv('rf1.csv')"
      ],
      "metadata": {
        "id": "VWxusFXCVuRo"
      },
      "execution_count": 17,
      "outputs": []
    },
    {
      "cell_type": "code",
      "source": [
        "  "
      ],
      "metadata": {
        "id": "ysvSwAYEWNCn"
      },
      "execution_count": null,
      "outputs": []
    }
  ]
}