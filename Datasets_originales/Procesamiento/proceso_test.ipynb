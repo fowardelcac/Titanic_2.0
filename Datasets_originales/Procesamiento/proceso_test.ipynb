{
  "nbformat": 4,
  "nbformat_minor": 0,
  "metadata": {
    "colab": {
      "provenance": [],
      "authorship_tag": "ABX9TyNm2d7cWsze3/o2AkUcBo3X",
      "include_colab_link": true
    },
    "kernelspec": {
      "name": "python3",
      "display_name": "Python 3"
    },
    "language_info": {
      "name": "python"
    }
  },
  "cells": [
    {
      "cell_type": "markdown",
      "metadata": {
        "id": "view-in-github",
        "colab_type": "text"
      },
      "source": [
        "<a href=\"https://colab.research.google.com/github/fowardelcac/Titanic_2.0/blob/main/Datasets_originales/Procesamiento/proceso_test.ipynb\" target=\"_parent\"><img src=\"https://colab.research.google.com/assets/colab-badge.svg\" alt=\"Open In Colab\"/></a>"
      ]
    },
    {
      "cell_type": "code",
      "execution_count": 1,
      "metadata": {
        "colab": {
          "base_uri": "https://localhost:8080/"
        },
        "id": "DnUp4vNngBO1",
        "outputId": "89397ec5-c136-42f3-cbbc-7e3c004a1004"
      },
      "outputs": [
        {
          "output_type": "stream",
          "name": "stdout",
          "text": [
            "fatal: destination path 'Titanic_2.0' already exists and is not an empty directory.\n"
          ]
        }
      ],
      "source": [
        "! git clone https://github.com/fowardelcac/Titanic_2.0.git"
      ]
    },
    {
      "cell_type": "code",
      "source": [
        "import pandas as pd\n",
        "import numpy as np\n",
        "import matplotlib.pyplot as plt"
      ],
      "metadata": {
        "id": "cSN_Zws9gCPM"
      },
      "execution_count": 2,
      "outputs": []
    },
    {
      "cell_type": "code",
      "source": [
        "df = pd.read_csv('/content/Titanic_2.0/Datasets_originales/test.csv').set_index('PassengerId')\n",
        "df = df.drop(['Name', 'Ticket', 'Cabin', 'Fare', 'Embarked'], axis = 1)\n",
        "df.info()"
      ],
      "metadata": {
        "colab": {
          "base_uri": "https://localhost:8080/"
        },
        "id": "tWNMwAAHgPxi",
        "outputId": "52c05e17-df3d-4b69-e5d3-f81b54ce4cc7"
      },
      "execution_count": 3,
      "outputs": [
        {
          "output_type": "stream",
          "name": "stdout",
          "text": [
            "<class 'pandas.core.frame.DataFrame'>\n",
            "Int64Index: 418 entries, 892 to 1309\n",
            "Data columns (total 5 columns):\n",
            " #   Column  Non-Null Count  Dtype  \n",
            "---  ------  --------------  -----  \n",
            " 0   Pclass  418 non-null    int64  \n",
            " 1   Sex     418 non-null    object \n",
            " 2   Age     332 non-null    float64\n",
            " 3   SibSp   418 non-null    int64  \n",
            " 4   Parch   418 non-null    int64  \n",
            "dtypes: float64(1), int64(3), object(1)\n",
            "memory usage: 19.6+ KB\n"
          ]
        }
      ]
    },
    {
      "cell_type": "code",
      "source": [
        "mapeo = {'male': 0, 'female': 1}\n",
        "df.Sex = df.Sex.map(mapeo)"
      ],
      "metadata": {
        "id": "7Wz2lXIUgZaV"
      },
      "execution_count": 4,
      "outputs": []
    },
    {
      "cell_type": "code",
      "source": [
        "serie = df['Age'].dropna()\n",
        "size = df.Age.isnull().sum()\n",
        "s = pd.Series(np.random.choice(serie, size))\n",
        "df['Age'].fillna(0, inplace=True)\n",
        "mask = (df['Age'] == 0)  # Máscara para identificar los valores 0 en la columna 'Age'\n",
        "random_values = np.random.choice(s, size=mask.sum())  # Valores aleatorios de la serie 's'\n",
        "\n",
        "df.loc[mask, 'Age_imp'] = random_values "
      ],
      "metadata": {
        "id": "VFUygkbrgdzw"
      },
      "execution_count": 5,
      "outputs": []
    },
    {
      "cell_type": "code",
      "source": [],
      "metadata": {
        "id": "HFRHNpMruTfO"
      },
      "execution_count": 5,
      "outputs": []
    }
  ]
}