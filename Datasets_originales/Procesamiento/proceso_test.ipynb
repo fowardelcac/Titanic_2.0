{
  "nbformat": 4,
  "nbformat_minor": 0,
  "metadata": {
    "colab": {
      "provenance": [],
      "authorship_tag": "ABX9TyOHsjAcq2KgaFqaDZ5SuiLb",
      "include_colab_link": true
    },
    "kernelspec": {
      "name": "python3",
      "display_name": "Python 3"
    },
    "language_info": {
      "name": "python"
    }
  },
  "cells": [
    {
      "cell_type": "markdown",
      "metadata": {
        "id": "view-in-github",
        "colab_type": "text"
      },
      "source": [
        "<a href=\"https://colab.research.google.com/github/fowardelcac/Titanic_2.0/blob/main/Datasets_originales/Procesamiento/proceso_test.ipynb\" target=\"_parent\"><img src=\"https://colab.research.google.com/assets/colab-badge.svg\" alt=\"Open In Colab\"/></a>"
      ]
    },
    {
      "cell_type": "code",
      "execution_count": 1,
      "metadata": {
        "colab": {
          "base_uri": "https://localhost:8080/"
        },
        "id": "DnUp4vNngBO1",
        "outputId": "0d75e6e9-5dd3-4dc5-f9a2-197db6156e86"
      },
      "outputs": [
        {
          "output_type": "stream",
          "name": "stdout",
          "text": [
            "fatal: destination path 'Titanic_2.0' already exists and is not an empty directory.\n"
          ]
        }
      ],
      "source": [
        "! git clone https://github.com/fowardelcac/Titanic_2.0.git"
      ]
    },
    {
      "cell_type": "code",
      "source": [
        "import pandas as pd\n",
        "import numpy as np\n",
        "import matplotlib.pyplot as plt"
      ],
      "metadata": {
        "id": "cSN_Zws9gCPM"
      },
      "execution_count": 2,
      "outputs": []
    },
    {
      "cell_type": "code",
      "source": [
        "df = pd.read_csv('/content/Titanic_2.0/Datasets_originales/test.csv').set_index('PassengerId')\n",
        "df = df.drop(['Name', 'Ticket', 'Cabin', 'Fare', 'Embarked'], axis = 1)\n",
        "df.info()"
      ],
      "metadata": {
        "colab": {
          "base_uri": "https://localhost:8080/"
        },
        "id": "tWNMwAAHgPxi",
        "outputId": "b04fbe90-009a-4651-ea01-a76d8cb47171"
      },
      "execution_count": 3,
      "outputs": [
        {
          "output_type": "stream",
          "name": "stdout",
          "text": [
            "<class 'pandas.core.frame.DataFrame'>\n",
            "Int64Index: 418 entries, 892 to 1309\n",
            "Data columns (total 5 columns):\n",
            " #   Column  Non-Null Count  Dtype  \n",
            "---  ------  --------------  -----  \n",
            " 0   Pclass  418 non-null    int64  \n",
            " 1   Sex     418 non-null    object \n",
            " 2   Age     332 non-null    float64\n",
            " 3   SibSp   418 non-null    int64  \n",
            " 4   Parch   418 non-null    int64  \n",
            "dtypes: float64(1), int64(3), object(1)\n",
            "memory usage: 19.6+ KB\n"
          ]
        }
      ]
    },
    {
      "cell_type": "code",
      "source": [
        "mapeo = {'male': 0, 'female': 1}\n",
        "df.Sex = df.Sex.map(mapeo)"
      ],
      "metadata": {
        "id": "7Wz2lXIUgZaV"
      },
      "execution_count": 4,
      "outputs": []
    },
    {
      "cell_type": "code",
      "source": [
        "serie = df['Age'].dropna()\n",
        "\n",
        "# Obtener la cantidad de valores nulos en la columna 'Age'\n",
        "size = df['Age'].isna().sum()\n",
        "\n",
        "# Generar una nueva Serie con valores aleatorios de la Serie 'serie'\n",
        "random_values = np.random.choice(serie, size=size)\n",
        "\n",
        "# Reemplazar los valores NaN en la columna 'Age' con los valores aleatorios\n",
        "df.loc[df['Age'].isna(), 'Age'] = random_values"
      ],
      "metadata": {
        "id": "cGLzMJj-Cfz_"
      },
      "execution_count": 7,
      "outputs": []
    },
    {
      "cell_type": "code",
      "source": [
        "df.to_csv('test_procesado.csv')"
      ],
      "metadata": {
        "id": "r0BPnBpWCi48"
      },
      "execution_count": 10,
      "outputs": []
    },
    {
      "cell_type": "code",
      "source": [
        "import seaborn as sns\n",
        "sns.histplot(df.Age)"
      ],
      "metadata": {
        "id": "FJjKBzRRC-sr",
        "outputId": "c45b0b0f-55c2-429a-ef2a-19e9c9f3bfff",
        "colab": {
          "base_uri": "https://localhost:8080/",
          "height": 466
        }
      },
      "execution_count": 9,
      "outputs": [
        {
          "output_type": "execute_result",
          "data": {
            "text/plain": [
              "<Axes: xlabel='Age', ylabel='Count'>"
            ]
          },
          "metadata": {},
          "execution_count": 9
        },
        {
          "output_type": "display_data",
          "data": {
            "text/plain": [
              "<Figure size 640x480 with 1 Axes>"
            ],
            "image/png": "[encoded data removed]"
          },
          "metadata": {}
        }
      ]
    },
    {
      "cell_type": "code",
      "source": [],
      "metadata": {
        "id": "Ybr-X9fUOPF_"
      },
      "execution_count": null,
      "outputs": []
    }
  ]
}