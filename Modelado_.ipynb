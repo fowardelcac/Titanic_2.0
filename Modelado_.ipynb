{
  "nbformat": 4,
  "nbformat_minor": 0,
  "metadata": {
    "colab": {
      "provenance": [],
      "authorship_tag": "ABX9TyNupYZYL6ZQ/Fund7cHl8Xc",
      "include_colab_link": true
    },
    "kernelspec": {
      "name": "python3",
      "display_name": "Python 3"
    },
    "language_info": {
      "name": "python"
    }
  },
  "cells": [
    {
      "cell_type": "markdown",
      "metadata": {
        "id": "view-in-github",
        "colab_type": "text"
      },
      "source": [
        "<a href=\"https://colab.research.google.com/github/fowardelcac/Titanic_2.0/blob/main/Modelado_.ipynb\" target=\"_parent\"><img src=\"https://colab.research.google.com/assets/colab-badge.svg\" alt=\"Open In Colab\"/></a>"
      ]
    },
    {
      "cell_type": "code",
      "execution_count": 1,
      "metadata": {
        "colab": {
          "base_uri": "https://localhost:8080/"
        },
        "id": "CcpdE0Atf8ZL",
        "outputId": "5cfa80bf-ab02-4ddf-919f-5829aaa18054"
      },
      "outputs": [
        {
          "output_type": "stream",
          "name": "stdout",
          "text": [
            "fatal: destination path 'Titanic_2.0' already exists and is not an empty directory.\n"
          ]
        }
      ],
      "source": [
        "! git clone https://github.com/fowardelcac/Titanic_2.0.git"
      ]
    },
    {
      "cell_type": "code",
      "source": [
        "import pandas as pd\n",
        "import numpy as np\n",
        "import matplotlib.pyplot as plt\n",
        "import seaborn as sns\n",
        "import random\n",
        "import warnings\n",
        "\n",
        "from sklearn.metrics import accuracy_score\n",
        "from sklearn.model_selection import train_test_split\n",
        "from sklearn.model_selection import GridSearchCV\n",
        "from sklearn.preprocessing import OneHotEncoder\n",
        "from sklearn.preprocessing import MinMaxScaler\n",
        "\n",
        "from sklearn.linear_model import LogisticRegression\n",
        "from sklearn.neighbors import KNeighborsClassifier\n",
        "from sklearn.tree import DecisionTreeClassifier\n",
        "from sklearn.ensemble import RandomForestClassifier\n",
        "\n",
        "warnings.filterwarnings('ignore')"
      ],
      "metadata": {
        "id": "B4wFg-MHgFg_"
      },
      "execution_count": 2,
      "outputs": []
    },
    {
      "cell_type": "markdown",
      "source": [
        "# Funciones"
      ],
      "metadata": {
        "id": "BycU2jT1lROW"
      }
    },
    {
      "cell_type": "code",
      "source": [
        "def split(df):\n",
        "  n = len(df.columns) - 1\n",
        "  X = df.drop('Survived', axis=1).values.reshape((-1, n))\n",
        "  y = df.Survived\n",
        "  X_train, X_test, y_train, y_test = train_test_split(X, y, train_size = 0.3, random_state = 42)\n",
        "  return X_train, X_test, y_train, y_test"
      ],
      "metadata": {
        "id": "nCU5MmbVUgIB"
      },
      "execution_count": 3,
      "outputs": []
    },
    {
      "cell_type": "code",
      "source": [
        "def modelar(modelo, X_train, y_train):\n",
        "   return modelo.fit(X_train, y_train) "
      ],
      "metadata": {
        "id": "PGRkLUZphNGt"
      },
      "execution_count": 4,
      "outputs": []
    },
    {
      "cell_type": "code",
      "source": [
        "def predecir(modelo, X_test, y_test, accuracy_score):\n",
        "  y_pred = modelo.predict(X_test)\n",
        "  score = round(accuracy_score(y_test, y_pred), 3)\n",
        "  return score\n",
        "\n",
        "def predecir_rdo(modelo, X_test):\n",
        "  return modelo.predict(X_test)"
      ],
      "metadata": {
        "id": "KTGwtpbBjhsI"
      },
      "execution_count": 5,
      "outputs": []
    },
    {
      "cell_type": "code",
      "source": [
        "def edit_age(df):\n",
        "  serie = df['Age'].dropna()\n",
        "  # Obtener la cantidad de valores nulos en la columna 'Age'\n",
        "  size = df['Age'].isna().sum()\n",
        "  # Generar una nueva Serie con valores aleatorios de la Serie 'serie'\n",
        "  random_values = np.random.choice(serie, size=size)\n",
        "  # Reemplazar los valores NaN en la columna 'Age' con los valores aleatorios\n",
        "  df.loc[df['Age'].isna(), 'Age'] = random_values\n",
        "  return df"
      ],
      "metadata": {
        "id": "b_FOFglummr7"
      },
      "execution_count": 6,
      "outputs": []
    },
    {
      "cell_type": "code",
      "source": [
        "def onehot(df):\n",
        "  encoder = OneHotEncoder()\n",
        "  data = pd.DataFrame(encoder.fit_transform(df['Pclass'].values.reshape(-1, 1)).toarray(), columns=['1', '2', '3'])\n",
        "  return data"
      ],
      "metadata": {
        "id": "EjSRUYO_Nw-1"
      },
      "execution_count": 7,
      "outputs": []
    },
    {
      "cell_type": "code",
      "source": [
        "def edit(df):\n",
        "  df = edit_age(df)\n",
        "\n",
        "  mapeo = {'male': 0, 'female': 1}\n",
        "  df.Sex = df.Sex.map(mapeo)\n",
        "  \n",
        "  df['familia'] = df.SibSp + df.Parch\n",
        "\n",
        "  data = onehot(df)\n",
        "  df.reset_index('PassengerId', inplace=True)\n",
        "  df = pd.concat([df, data], axis=1).set_index('PassengerId')\n",
        "\n",
        "  scaler = MinMaxScaler().fit_transform(df['Fare'].values.reshape(-1, 1))\n",
        "  scaled_series = pd.Series(scaler.flatten(), index=df.index)\n",
        "  df.Fare = scaled_series\n",
        "\n",
        "  df.drop(['SibSp', 'Parch', 'Cabin', 'Ticket', 'Name', 'Pclass', 'Embarked'], axis = 1, inplace = True)\n",
        "  return df   "
      ],
      "metadata": {
        "id": "DQv7-uWZl_wr"
      },
      "execution_count": 8,
      "outputs": []
    },
    {
      "cell_type": "code",
      "source": [
        "def modelar_():\n",
        "  modelos_lista = [RandomForestClassifier(), DecisionTreeClassifier(), KNeighborsClassifier(), LogisticRegression()]\n",
        "  data = create_df_azar(df)\n",
        "  cols_d = data.columns[:-1]\n",
        "  \n",
        "  X_train, X_test, y_train, y_test = split(data)\n",
        "  dic_m = {}\n",
        "  for i in modelos_lista:  \n",
        "    modelo = modelar(i, X_train, y_train)\n",
        "    acc = predecir(modelo, X_test, y_test, accuracy_score)\n",
        "    dic_m[i] = [cols_d, acc]\n",
        "  return dic_m"
      ],
      "metadata": {
        "id": "9bRALKnZu_7F"
      },
      "execution_count": 9,
      "outputs": []
    },
    {
      "cell_type": "code",
      "source": [
        "def random_samples():\n",
        "  columnas = ['Sex', 'Age', 'Fare', 'familia', '1', '2', '3']\n",
        "  n_col =  random.randint(1, len(columnas))\n",
        "  random_c = random.sample(columnas, n_col)\n",
        "  return random_c\n",
        "\n",
        "def create_df_azar(df):\n",
        "  columnas = random_samples()\n",
        "  data = df.filter(columnas, axis = 1)\n",
        "  data['Survived'] = df.Survived\n",
        "  return data"
      ],
      "metadata": {
        "id": "sUqnLHbTvHS3"
      },
      "execution_count": 10,
      "outputs": []
    },
    {
      "cell_type": "code",
      "source": [
        "def grid(modelo, params, X_train, y_train):\n",
        "  grid_rf = GridSearchCV(modelo, params, cv = 5).fit(X_train, y_train)\n",
        "  mejores_parametros = grid_rf.best_params_\n",
        "  mejor_score = grid_rf.best_score_\n",
        "\n",
        "  print(\"Mejores parámetros:\", mejores_parametros)\n",
        "  print(\"Mejor score:\", mejor_score)"
      ],
      "metadata": {
        "id": "A3uVJsqce_dk"
      },
      "execution_count": 11,
      "outputs": []
    },
    {
      "cell_type": "code",
      "source": [
        "def rdo(test, y_pred):\n",
        "  return pd.DataFrame(\n",
        "    {\n",
        "    'Survived': y_pred\n",
        "    }, index= test.index )\n",
        "   "
      ],
      "metadata": {
        "id": "-gZJPx1OmRcZ"
      },
      "execution_count": 12,
      "outputs": []
    },
    {
      "cell_type": "code",
      "source": [
        "df = pd.read_csv('/content/Titanic_2.0/Datasets_originales/train.csv').set_index('PassengerId')\n",
        "df = edit(df)\n",
        "df.head()"
      ],
      "metadata": {
        "id": "d4dthjwZj4am",
        "colab": {
          "base_uri": "https://localhost:8080/",
          "height": 237
        },
        "outputId": "5ce15727-3edc-40b0-8ad7-ded3b34c61bb"
      },
      "execution_count": 13,
      "outputs": [
        {
          "output_type": "execute_result",
          "data": {
            "text/plain": [
              "             Survived  Sex   Age      Fare  familia    1    2    3\n",
              "PassengerId                                                       \n",
              "1                   0    0  22.0  0.014151        1  0.0  0.0  1.0\n",
              "2                   1    1  38.0  0.139136        1  1.0  0.0  0.0\n",
              "3                   1    1  26.0  0.015469        0  0.0  0.0  1.0\n",
              "4                   1    1  35.0  0.103644        1  1.0  0.0  0.0\n",
              "5                   0    0  35.0  0.015713        0  0.0  0.0  1.0"
            ],
            "text/html": [
              "\n",
              "  <div id=\"df-1f52065d-7475-4cf8-a2e7-130ee2d817e1\">\n",
              "    <div class=\"colab-df-container\">\n",
              "      <div>\n",
              "<style scoped>\n",
              "    .dataframe tbody tr th:only-of-type {\n",
              "        vertical-align: middle;\n",
              "    }\n",
              "\n",
              "    .dataframe tbody tr th {\n",
              "        vertical-align: top;\n",
              "    }\n",
              "\n",
              "    .dataframe thead th {\n",
              "        text-align: right;\n",
              "    }\n",
              "</style>\n",
              "<table border=\"1\" class=\"dataframe\">\n",
              "  <thead>\n",
              "    <tr style=\"text-align: right;\">\n",
              "      <th></th>\n",
              "      <th>Survived</th>\n",
              "      <th>Sex</th>\n",
              "      <th>Age</th>\n",
              "      <th>Fare</th>\n",
              "      <th>familia</th>\n",
              "      <th>1</th>\n",
              "      <th>2</th>\n",
              "      <th>3</th>\n",
              "    </tr>\n",
              "    <tr>\n",
              "      <th>PassengerId</th>\n",
              "      <th></th>\n",
              "      <th></th>\n",
              "      <th></th>\n",
              "      <th></th>\n",
              "      <th></th>\n",
              "      <th></th>\n",
              "      <th></th>\n",
              "      <th></th>\n",
              "    </tr>\n",
              "  </thead>\n",
              "  <tbody>\n",
              "    <tr>\n",
              "      <th>1</th>\n",
              "      <td>0</td>\n",
              "      <td>0</td>\n",
              "      <td>22.0</td>\n",
              "      <td>0.014151</td>\n",
              "      <td>1</td>\n",
              "      <td>0.0</td>\n",
              "      <td>0.0</td>\n",
              "      <td>1.0</td>\n",
              "    </tr>\n",
              "    <tr>\n",
              "      <th>2</th>\n",
              "      <td>1</td>\n",
              "      <td>1</td>\n",
              "      <td>38.0</td>\n",
              "      <td>0.139136</td>\n",
              "      <td>1</td>\n",
              "      <td>1.0</td>\n",
              "      <td>0.0</td>\n",
              "      <td>0.0</td>\n",
              "    </tr>\n",
              "    <tr>\n",
              "      <th>3</th>\n",
              "      <td>1</td>\n",
              "      <td>1</td>\n",
              "      <td>26.0</td>\n",
              "      <td>0.015469</td>\n",
              "      <td>0</td>\n",
              "      <td>0.0</td>\n",
              "      <td>0.0</td>\n",
              "      <td>1.0</td>\n",
              "    </tr>\n",
              "    <tr>\n",
              "      <th>4</th>\n",
              "      <td>1</td>\n",
              "      <td>1</td>\n",
              "      <td>35.0</td>\n",
              "      <td>0.103644</td>\n",
              "      <td>1</td>\n",
              "      <td>1.0</td>\n",
              "      <td>0.0</td>\n",
              "      <td>0.0</td>\n",
              "    </tr>\n",
              "    <tr>\n",
              "      <th>5</th>\n",
              "      <td>0</td>\n",
              "      <td>0</td>\n",
              "      <td>35.0</td>\n",
              "      <td>0.015713</td>\n",
              "      <td>0</td>\n",
              "      <td>0.0</td>\n",
              "      <td>0.0</td>\n",
              "      <td>1.0</td>\n",
              "    </tr>\n",
              "  </tbody>\n",
              "</table>\n",
              "</div>\n",
              "      <button class=\"colab-df-convert\" onclick=\"convertToInteractive('df-1f52065d-7475-4cf8-a2e7-130ee2d817e1')\"\n",
              "              title=\"Convert this dataframe to an interactive table.\"\n",
              "              style=\"display:none;\">\n",
              "        \n",
              "  <svg xmlns=\"http://www.w3.org/2000/svg\" height=\"24px\"viewBox=\"0 0 24 24\"\n",
              "       width=\"24px\">\n",
              "    <path d=\"M0 0h24v24H0V0z\" fill=\"none\"/>\n",
              "    <path d=\"M18.56 5.44l.94 2.06.94-2.06 2.06-.94-2.06-.94-.94-2.06-.94 2.06-2.06.94zm-11 1L8.5 8.5l.94-2.06 2.06-.94-2.06-.94L8.5 2.5l-.94 2.06-2.06.94zm10 10l.94 2.06.94-2.06 2.06-.94-2.06-.94-.94-2.06-.94 2.06-2.06.94z\"/><path d=\"M17.41 7.96l-1.37-1.37c-.4-.4-.92-.59-1.43-.59-.52 0-1.04.2-1.43.59L10.3 9.45l-7.72 7.72c-.78.78-.78 2.05 0 2.83L4 21.41c.39.39.9.59 1.41.59.51 0 1.02-.2 1.41-.59l7.78-7.78 2.81-2.81c.8-.78.8-2.07 0-2.86zM5.41 20L4 18.59l7.72-7.72 1.47 1.35L5.41 20z\"/>\n",
              "  </svg>\n",
              "      </button>\n",
              "      \n",
              "  <style>\n",
              "    .colab-df-container {\n",
              "      display:flex;\n",
              "      flex-wrap:wrap;\n",
              "      gap: 12px;\n",
              "    }\n",
              "\n",
              "    .colab-df-convert {\n",
              "      background-color: #E8F0FE;\n",
              "      border: none;\n",
              "      border-radius: 50%;\n",
              "      cursor: pointer;\n",
              "      display: none;\n",
              "      fill: #1967D2;\n",
              "      height: 32px;\n",
              "      padding: 0 0 0 0;\n",
              "      width: 32px;\n",
              "    }\n",
              "\n",
              "    .colab-df-convert:hover {\n",
              "      background-color: #E2EBFA;\n",
              "      box-shadow: 0px 1px 2px rgba(60, 64, 67, 0.3), 0px 1px 3px 1px rgba(60, 64, 67, 0.15);\n",
              "      fill: #174EA6;\n",
              "    }\n",
              "\n",
              "    [theme=dark] .colab-df-convert {\n",
              "      background-color: #3B4455;\n",
              "      fill: #D2E3FC;\n",
              "    }\n",
              "\n",
              "    [theme=dark] .colab-df-convert:hover {\n",
              "      background-color: #434B5C;\n",
              "      box-shadow: 0px 1px 3px 1px rgba(0, 0, 0, 0.15);\n",
              "      filter: drop-shadow(0px 1px 2px rgba(0, 0, 0, 0.3));\n",
              "      fill: #FFFFFF;\n",
              "    }\n",
              "  </style>\n",
              "\n",
              "      <script>\n",
              "        const buttonEl =\n",
              "          document.querySelector('#df-1f52065d-7475-4cf8-a2e7-130ee2d817e1 button.colab-df-convert');\n",
              "        buttonEl.style.display =\n",
              "          google.colab.kernel.accessAllowed ? 'block' : 'none';\n",
              "\n",
              "        async function convertToInteractive(key) {\n",
              "          const element = document.querySelector('#df-1f52065d-7475-4cf8-a2e7-130ee2d817e1');\n",
              "          const dataTable =\n",
              "            await google.colab.kernel.invokeFunction('convertToInteractive',\n",
              "                                                     [key], {});\n",
              "          if (!dataTable) return;\n",
              "\n",
              "          const docLinkHtml = 'Like what you see? Visit the ' +\n",
              "            '<a target=\"_blank\" href=https://colab.research.google.com/notebooks/data_table.ipynb>data table notebook</a>'\n",
              "            + ' to learn more about interactive tables.';\n",
              "          element.innerHTML = '';\n",
              "          dataTable['output_type'] = 'display_data';\n",
              "          await google.colab.output.renderOutput(dataTable, element);\n",
              "          const docLink = document.createElement('div');\n",
              "          docLink.innerHTML = docLinkHtml;\n",
              "          element.appendChild(docLink);\n",
              "        }\n",
              "      </script>\n",
              "    </div>\n",
              "  </div>\n",
              "  "
            ]
          },
          "metadata": {},
          "execution_count": 13
        }
      ]
    },
    {
      "cell_type": "code",
      "source": [
        "scaler = MinMaxScaler().fit_transform(df['Age'].values.reshape(-1, 1))\n",
        "scaled_series = pd.Series(scaler.flatten(), index=df.index)\n",
        "df.Age = scaled_series\n"
      ],
      "metadata": {
        "id": "7-rVOE4eY2z1"
      },
      "execution_count": null,
      "outputs": []
    },
    {
      "cell_type": "code",
      "source": [
        "X_train, X_test, y_train, y_test = split(df)"
      ],
      "metadata": {
        "id": "RdmJRPb7OSjK"
      },
      "execution_count": null,
      "outputs": []
    },
    {
      "cell_type": "code",
      "source": [
        "modelos_lista = [RandomForestClassifier(), DecisionTreeClassifier(), KNeighborsClassifier(), LogisticRegression()]"
      ],
      "metadata": {
        "id": "FGFn-slcYVzy"
      },
      "execution_count": null,
      "outputs": []
    },
    {
      "cell_type": "markdown",
      "source": [
        "Sex\tAge\tFare\tfamilia\t1\t2\t3 age y fare escaladas\n",
        "\n"
      ],
      "metadata": {
        "id": "B3mC0bJXZRfk"
      }
    },
    {
      "cell_type": "code",
      "source": [
        "for i in modelos_lista:\n",
        "  modelo = modelar(i, X_train, y_train)\n",
        "  acc = predecir(modelo, X_test, y_test, accuracy_score)\n",
        "  print(f\"Modelo: {i}, score:\", acc)"
      ],
      "metadata": {
        "colab": {
          "base_uri": "https://localhost:8080/"
        },
        "id": "pfczM35NYgah",
        "outputId": "d9d922e9-206e-431c-9ff0-c228fe19c4b6"
      },
      "execution_count": null,
      "outputs": [
        {
          "output_type": "stream",
          "name": "stdout",
          "text": [
            "Modelo: RandomForestClassifier(), score: 0.792\n",
            "Modelo: DecisionTreeClassifier(), score: 0.74\n",
            "Modelo: KNeighborsClassifier(), score: 0.808\n",
            "Modelo: LogisticRegression(), score: 0.8\n"
          ]
        }
      ]
    },
    {
      "cell_type": "code",
      "source": [
        "lista_dic =[]\n",
        "for i in range(15):\n",
        "  lista_dic.append(modelar_())"
      ],
      "metadata": {
        "id": "8AcupxJkzagN"
      },
      "execution_count": null,
      "outputs": []
    },
    {
      "cell_type": "code",
      "source": [
        "lista_dic[0].keys()"
      ],
      "metadata": {
        "colab": {
          "base_uri": "https://localhost:8080/"
        },
        "id": "P0fozUKbaAZp",
        "outputId": "4d5df9ca-da17-4871-8b49-1af8ace4edbc"
      },
      "execution_count": null,
      "outputs": [
        {
          "output_type": "execute_result",
          "data": {
            "text/plain": [
              "dict_keys([RandomForestClassifier(), DecisionTreeClassifier(), KNeighborsClassifier(), LogisticRegression()])"
            ]
          },
          "metadata": {},
          "execution_count": 77
        }
      ]
    },
    {
      "cell_type": "code",
      "source": [
        "scores = []\n",
        "for diccionario in lista_dic:\n",
        "    for item in diccionario.values():\n",
        "        scores.append(item[1])\n",
        "\n",
        "for index, diccionario in enumerate(lista_dic):\n",
        "    for clave in diccionario.keys():\n",
        "        print(index+1, clave, ':', diccionario[clave][1])\n",
        "        print('*' * 50)"
      ],
      "metadata": {
        "colab": {
          "base_uri": "https://localhost:8080/"
        },
        "id": "-GH7w4A8Vghu",
        "outputId": "36a4aab8-1383-46fa-cbe6-741c772c72a6"
      },
      "execution_count": null,
      "outputs": [
        {
          "output_type": "stream",
          "name": "stdout",
          "text": [
            "1 RandomForestClassifier() : 0.646\n",
            "1 DecisionTreeClassifier() : 0.646\n",
            "1 KNeighborsClassifier() : 0.657\n",
            "1 LogisticRegression() : 0.715\n",
            "2 RandomForestClassifier() : 0.788\n",
            "2 DecisionTreeClassifier() : 0.734\n",
            "2 KNeighborsClassifier() : 0.801\n",
            "2 LogisticRegression() : 0.798\n",
            "3 RandomForestClassifier() : 0.771\n",
            "3 DecisionTreeClassifier() : 0.769\n",
            "3 KNeighborsClassifier() : 0.766\n",
            "3 LogisticRegression() : 0.79\n",
            "4 RandomForestClassifier() : 0.792\n",
            "4 DecisionTreeClassifier() : 0.737\n",
            "4 KNeighborsClassifier() : 0.785\n",
            "4 LogisticRegression() : 0.792\n",
            "5 RandomForestClassifier() : 0.652\n",
            "5 DecisionTreeClassifier() : 0.614\n",
            "5 KNeighborsClassifier() : 0.684\n",
            "5 LogisticRegression() : 0.707\n",
            "6 RandomForestClassifier() : 0.609\n",
            "6 DecisionTreeClassifier() : 0.609\n",
            "6 KNeighborsClassifier() : 0.609\n",
            "6 LogisticRegression() : 0.609\n",
            "7 RandomForestClassifier() : 0.644\n",
            "7 DecisionTreeClassifier() : 0.633\n",
            "7 KNeighborsClassifier() : 0.662\n",
            "7 LogisticRegression() : 0.668\n",
            "8 RandomForestClassifier() : 0.758\n",
            "8 DecisionTreeClassifier() : 0.76\n",
            "8 KNeighborsClassifier() : 0.787\n",
            "8 LogisticRegression() : 0.785\n",
            "9 RandomForestClassifier() : 0.787\n",
            "9 DecisionTreeClassifier() : 0.787\n",
            "9 KNeighborsClassifier() : 0.788\n",
            "9 LogisticRegression() : 0.787\n",
            "10 RandomForestClassifier() : 0.62\n",
            "10 DecisionTreeClassifier() : 0.636\n",
            "10 KNeighborsClassifier() : 0.651\n",
            "10 LogisticRegression() : 0.707\n",
            "11 RandomForestClassifier() : 0.79\n",
            "11 DecisionTreeClassifier() : 0.768\n",
            "11 KNeighborsClassifier() : 0.792\n",
            "11 LogisticRegression() : 0.801\n",
            "12 RandomForestClassifier() : 0.772\n",
            "12 DecisionTreeClassifier() : 0.747\n",
            "12 KNeighborsClassifier() : 0.798\n",
            "12 LogisticRegression() : 0.798\n",
            "13 RandomForestClassifier() : 0.609\n",
            "13 DecisionTreeClassifier() : 0.609\n",
            "13 KNeighborsClassifier() : 0.609\n",
            "13 LogisticRegression() : 0.609\n",
            "14 RandomForestClassifier() : 0.787\n",
            "14 DecisionTreeClassifier() : 0.787\n",
            "14 KNeighborsClassifier() : 0.787\n",
            "14 LogisticRegression() : 0.787\n",
            "15 RandomForestClassifier() : 0.683\n",
            "15 DecisionTreeClassifier() : 0.609\n",
            "15 KNeighborsClassifier() : 0.609\n",
            "15 LogisticRegression() : 0.609\n"
          ]
        }
      ]
    },
    {
      "cell_type": "code",
      "source": [
        "lista_dic[10]"
      ],
      "metadata": {
        "colab": {
          "base_uri": "https://localhost:8080/"
        },
        "id": "uuxG7XTAVgeB",
        "outputId": "06401a56-dc8f-40e7-bf67-8224f7d4bf6f"
      },
      "execution_count": null,
      "outputs": [
        {
          "output_type": "execute_result",
          "data": {
            "text/plain": [
              "{RandomForestClassifier(): [Index(['familia', 'Sex', '3', 'Fare'], dtype='object'),\n",
              "  0.79],\n",
              " DecisionTreeClassifier(): [Index(['familia', 'Sex', '3', 'Fare'], dtype='object'),\n",
              "  0.768],\n",
              " KNeighborsClassifier(): [Index(['familia', 'Sex', '3', 'Fare'], dtype='object'),\n",
              "  0.792],\n",
              " LogisticRegression(): [Index(['familia', 'Sex', '3', 'Fare'], dtype='object'),\n",
              "  0.801]}"
            ]
          },
          "metadata": {},
          "execution_count": 99
        }
      ]
    },
    {
      "cell_type": "markdown",
      "source": [
        "\n",
        "1. RF:  '3', 'Fare', '2', 'Sex', 'Age', 'familia', '1', -> 0.798 / 'familia', 'Sex', '3', 'Fare' -> 0.79\n",
        "2. Arbol:  '3', 'Fare', '2', 'Sex', 'Age', 'familia', '1', -> 0.756 / 'Sex', '3', -> 0.787\n",
        "3. KNN:   '3', 'Fare', '2', 'Sex', 'Age', 'familia', '1', -> 0.808 / 'Fare', 'familia', 'Sex', '2', 'Age', '3' -> 0.801\n",
        "4. LR:   'familia', 'Sex', '3', 'Fare', -> 0.801\n"
      ],
      "metadata": {
        "id": "s2sMOfIMWEGX"
      }
    },
    {
      "cell_type": "markdown",
      "source": [
        "# Random forest"
      ],
      "metadata": {
        "id": "GB2_SV-DccVL"
      }
    },
    {
      "cell_type": "code",
      "source": [
        "data_rf = df.filter([ 'familia', 'Sex', '3', 'Fare', 'Survived'], axis = 1)\n",
        "X_train, X_test, y_train, y_test = split(data_rf)\n",
        "modelo_rf = modelar(RandomForestClassifier(), X_train, y_train)\n",
        "acc = predecir(modelo_rf, X_test, y_test, accuracy_score)\n",
        "print(acc)"
      ],
      "metadata": {
        "id": "2TacWwzrcbsw",
        "colab": {
          "base_uri": "https://localhost:8080/"
        },
        "outputId": "7f74be91-303a-4cbc-d1c8-841a45f2c425"
      },
      "execution_count": 39,
      "outputs": [
        {
          "output_type": "stream",
          "name": "stdout",
          "text": [
            "0.784\n"
          ]
        }
      ]
    },
    {
      "cell_type": "code",
      "source": [
        "parametros = {\n",
        "    'n_estimators': [100, 200, 300],  # número de árboles en el bosque\n",
        "    'max_depth': [None, 5, 10],  # profundidad máxima de cada árbol\n",
        "    'min_samples_split': [2, 5, 10],  # número mínimo de muestras requeridas para dividir un nodo\n",
        "    'min_samples_leaf': [1, 2, 4]  # número mínimo de muestras requeridas en cada hoja\n",
        "}\n",
        "\n",
        "grid(RandomForestClassifier(), parametros, X_train, y_train)"
      ],
      "metadata": {
        "colab": {
          "base_uri": "https://localhost:8080/"
        },
        "id": "aOfhA6vxcbbh",
        "outputId": "c15f1493-0365-426d-b681-c406de074e91"
      },
      "execution_count": 40,
      "outputs": [
        {
          "output_type": "stream",
          "name": "stdout",
          "text": [
            "Mejores parámetros: {'max_depth': 5, 'min_samples_leaf': 2, 'min_samples_split': 10, 'n_estimators': 300}\n",
            "Mejor score: 0.8167714884696018\n"
          ]
        }
      ]
    },
    {
      "cell_type": "code",
      "source": [
        "modelo_rf = modelar(RandomForestClassifier(max_depth =  5, min_samples_leaf = 2, min_samples_split = 10, n_estimators = 300), X_train, y_train)\n",
        "acc = predecir(modelo_rf, X_test, y_test, accuracy_score)\n",
        "print(acc)"
      ],
      "metadata": {
        "colab": {
          "base_uri": "https://localhost:8080/"
        },
        "id": "yrvEgMbIcbP5",
        "outputId": "0928249c-5fdc-4fa5-ba7e-ba4dc7ce704a"
      },
      "execution_count": 46,
      "outputs": [
        {
          "output_type": "stream",
          "name": "stdout",
          "text": [
            "0.803\n"
          ]
        }
      ]
    },
    {
      "cell_type": "markdown",
      "source": [
        "# Arbol de desicion"
      ],
      "metadata": {
        "id": "WEYT1DokiDag"
      }
    },
    {
      "cell_type": "code",
      "source": [
        "data_a = df.filter([ '3', 'Fare', '2', 'Sex', 'Age', 'familia', '1', 'Survived'], axis = 1)\n",
        "X_train, X_test, y_train, y_test = split(data_a)\n",
        "modelo_tree = modelar(DecisionTreeClassifier(), X_train, y_train)\n",
        "acc = predecir(modelo_tree, X_test, y_test, accuracy_score)\n",
        "print(acc)"
      ],
      "metadata": {
        "colab": {
          "base_uri": "https://localhost:8080/"
        },
        "id": "O7CgegZihdNW",
        "outputId": "1fd5edfd-bcb1-4f94-ef67-a6a72aefebdd"
      },
      "execution_count": 15,
      "outputs": [
        {
          "output_type": "stream",
          "name": "stdout",
          "text": [
            "0.728\n"
          ]
        }
      ]
    },
    {
      "cell_type": "code",
      "source": [
        "parametros = {\n",
        "    'criterion': ['gini', 'entropy'],\n",
        "    'max_depth': [None, 5, 10, 15],\n",
        "    'min_samples_split': [2, 5, 10],\n",
        "    'min_samples_leaf': [1, 2, 4]\n",
        "}\n",
        "grid(DecisionTreeClassifier(), parametros, X_train, y_train)"
      ],
      "metadata": {
        "colab": {
          "base_uri": "https://localhost:8080/"
        },
        "id": "wRz465ZjgGIk",
        "outputId": "2821fbc6-b7e8-43c3-e79d-55189c674d9f"
      },
      "execution_count": 29,
      "outputs": [
        {
          "output_type": "stream",
          "name": "stdout",
          "text": [
            "Mejores parámetros: {'criterion': 'gini', 'max_depth': None, 'min_samples_leaf': 4, 'min_samples_split': 2}\n",
            "Mejor score: 0.8352201257861636\n"
          ]
        }
      ]
    },
    {
      "cell_type": "code",
      "source": [
        "modelo_tree = modelar(DecisionTreeClassifier(criterion = 'gini', max_depth = None, min_samples_leaf = 4, min_samples_split= 2), X_train, y_train)\n",
        "acc = predecir(modelo_tree, X_test, y_test, accuracy_score)\n",
        "print(acc)"
      ],
      "metadata": {
        "colab": {
          "base_uri": "https://localhost:8080/"
        },
        "id": "_J6CIdHXiwup",
        "outputId": "dec25f3e-27e7-4b7e-fee0-a27caf0963a6"
      },
      "execution_count": 32,
      "outputs": [
        {
          "output_type": "stream",
          "name": "stdout",
          "text": [
            "0.79\n"
          ]
        }
      ]
    },
    {
      "cell_type": "markdown",
      "source": [
        "# KNN"
      ],
      "metadata": {
        "id": "4PY6eECdgtEN"
      }
    },
    {
      "cell_type": "code",
      "source": [
        "data_knn = df.filter(['Fare', 'familia', 'Sex', '2', 'Age', '3', 'Survived'], axis = 1)\n",
        "X_train, X_test, y_train, y_test = split(data_knn)\n",
        "modelo_knn = modelar(KNeighborsClassifier(), X_train, y_train)\n",
        "acc = predecir(modelo_knn, X_test, y_test, accuracy_score)\n",
        "print(acc)"
      ],
      "metadata": {
        "colab": {
          "base_uri": "https://localhost:8080/"
        },
        "id": "jRyLobp9jGOG",
        "outputId": "77d617ec-2ff8-40b5-c61a-050824b72fa8"
      },
      "execution_count": 16,
      "outputs": [
        {
          "output_type": "stream",
          "name": "stdout",
          "text": [
            "0.692\n"
          ]
        }
      ]
    },
    {
      "cell_type": "markdown",
      "source": [
        "# Regresion logistica"
      ],
      "metadata": {
        "id": "oDpkx0SRhSG7"
      }
    },
    {
      "cell_type": "code",
      "source": [
        "data_rl = df.filter(['familia', 'Sex', '3', 'Fare', 'Survived'], axis = 1)\n",
        "X_train, X_test, y_train, y_test = split(data_rl)\n",
        "modelo_rl = modelar(LogisticRegression(), X_train, y_train)\n",
        "acc = predecir(modelo_rl, X_test, y_test, accuracy_score)\n",
        "print(acc)"
      ],
      "metadata": {
        "colab": {
          "base_uri": "https://localhost:8080/"
        },
        "id": "YFrCjmc7hRml",
        "outputId": "4ec70d76-44c5-4eb9-8568-f1e97917868c"
      },
      "execution_count": 17,
      "outputs": [
        {
          "output_type": "stream",
          "name": "stdout",
          "text": [
            "0.801\n"
          ]
        }
      ]
    },
    {
      "cell_type": "code",
      "source": [
        "parametros = {\n",
        "    'C': [0.1, 1.0, 10.0],\n",
        "     'penalty': ['l1', 'l2'],\n",
        "    'solver': ['liblinear', 'saga'],\n",
        "    'fit_intercept': [True, False],\n",
        "     'class_weight': [None, 'balanced'],\n",
        "     'max_iter': [100, 500, 1000]\n",
        "}\n",
        "grid(LogisticRegression(), parametros, X_train, y_train)"
      ],
      "metadata": {
        "id": "h39DZIexkDHq",
        "colab": {
          "base_uri": "https://localhost:8080/"
        },
        "outputId": "2403f27b-295a-42d9-a0f5-aeff86a7cc50"
      },
      "execution_count": 22,
      "outputs": [
        {
          "output_type": "stream",
          "name": "stdout",
          "text": [
            "Mejores parámetros: {'C': 1.0, 'class_weight': None, 'fit_intercept': False, 'max_iter': 100, 'penalty': 'l1', 'solver': 'liblinear'}\n",
            "Mejor score: 0.7979734451432565\n"
          ]
        }
      ]
    },
    {
      "cell_type": "code",
      "source": [
        "modelo_rl = modelar(LogisticRegression(C = 1.0, class_weight =  None, fit_intercept = False, max_iter = 100, penalty = 'l1', solver= 'liblinear'), X_train, y_train)\n",
        "acc = predecir(modelo_rl, X_test, y_test, accuracy_score)\n",
        "print(acc)"
      ],
      "metadata": {
        "colab": {
          "base_uri": "https://localhost:8080/"
        },
        "id": "PWkWmr8qiwYB",
        "outputId": "c668a4db-7464-470d-d6f3-82c7c62f15fa"
      },
      "execution_count": 24,
      "outputs": [
        {
          "output_type": "stream",
          "name": "stdout",
          "text": [
            "0.809\n"
          ]
        }
      ]
    },
    {
      "cell_type": "markdown",
      "source": [
        "1. Arbol de desicion: 0.812\n",
        "2. Regresion: 0.809\n",
        "3. Random fores: 0.801"
      ],
      "metadata": {
        "id": "kGzgwza5jfxy"
      }
    },
    {
      "cell_type": "markdown",
      "source": [
        "# Test"
      ],
      "metadata": {
        "id": "bgUmCYn2jy4R"
      }
    },
    {
      "cell_type": "code",
      "source": [
        "test = pd.read_csv('/content/Titanic_2.0/Datasets_originales/test.csv').set_index('PassengerId')\n",
        "test = edit(test)\n",
        "test.Fare.fillna(test.Fare.mean(), inplace=True)"
      ],
      "metadata": {
        "id": "PS-_19jzjyaR"
      },
      "execution_count": 17,
      "outputs": []
    },
    {
      "cell_type": "code",
      "source": [
        "test.isnull().sum()"
      ],
      "metadata": {
        "colab": {
          "base_uri": "https://localhost:8080/"
        },
        "id": "JjzcanVzm2Mw",
        "outputId": "531fc6dc-27ff-43be-98bf-0d6b61e44aca"
      },
      "execution_count": 72,
      "outputs": [
        {
          "output_type": "execute_result",
          "data": {
            "text/plain": [
              "Sex        0\n",
              "Age        0\n",
              "Fare       0\n",
              "familia    0\n",
              "1          0\n",
              "2          0\n",
              "3          0\n",
              "dtype: int64"
            ]
          },
          "metadata": {},
          "execution_count": 72
        }
      ]
    },
    {
      "cell_type": "markdown",
      "source": [
        "### Ajusto los tres modelos"
      ],
      "metadata": {
        "id": "59a5LUhQkH_R"
      }
    },
    {
      "cell_type": "markdown",
      "source": [
        "1. RL: 0.809\n",
        "2. RF: 0.803 \n",
        "3. Tree: 0.8"
      ],
      "metadata": {
        "id": "WWwVmNZsl6X2"
      }
    },
    {
      "cell_type": "code",
      "source": [
        "modelo_rl = modelar(LogisticRegression(C = 1.0, class_weight =  None, fit_intercept = False, max_iter = 100, penalty = 'l1', solver= 'liblinear'), X_train, y_train)\n",
        "acc = predecir(modelo_rl, X_test, y_test, accuracy_score)\n",
        "print(acc)"
      ],
      "metadata": {
        "colab": {
          "base_uri": "https://localhost:8080/"
        },
        "id": "3-gYR9d-jfoc",
        "outputId": "40ffddf1-e98d-4d43-a2b7-af0130f6e479"
      },
      "execution_count": 53,
      "outputs": [
        {
          "output_type": "stream",
          "name": "stdout",
          "text": [
            "0.809\n"
          ]
        }
      ]
    },
    {
      "cell_type": "code",
      "source": [
        "X_test = test.filter(['familia', 'Sex', '3', 'Fare'], axis = 1)"
      ],
      "metadata": {
        "id": "tcU3HsBGnD2l"
      },
      "execution_count": 76,
      "outputs": []
    },
    {
      "cell_type": "code",
      "source": [
        "test_rdo_rl = rdo(test, predecir_rdo(modelo_rl, X_test))\n",
        "test_rdo_rl.to_csv('Reg_log2.csv')"
      ],
      "metadata": {
        "id": "gM54eRL6mEY-"
      },
      "execution_count": 78,
      "outputs": []
    },
    {
      "cell_type": "code",
      "source": [
        "modelo_rf = modelar(RandomForestClassifier(max_depth =  5, min_samples_leaf = 2, min_samples_split = 10, n_estimators = 300), X_train, y_train)\n",
        "acc = predecir(modelo_rf, X_test, y_test, accuracy_score)\n",
        "print(acc)"
      ],
      "metadata": {
        "colab": {
          "base_uri": "https://localhost:8080/"
        },
        "id": "al3M3d27jFI4",
        "outputId": "4221534b-8dab-467e-b563-9ac09ac769dc"
      },
      "execution_count": 49,
      "outputs": [
        {
          "output_type": "stream",
          "name": "stdout",
          "text": [
            "0.803\n"
          ]
        }
      ]
    },
    {
      "cell_type": "code",
      "source": [
        "X_test = test.filter(['familia', 'Sex', '3', 'Fare'], axis=1)\n",
        "test_rdo_rf = rdo(test, predecir_rdo(modelo_rf, X_test))\n",
        "test_rdo_rf.to_csv('Rf2.csv')"
      ],
      "metadata": {
        "id": "tdlJCMtQovVk"
      },
      "execution_count": 79,
      "outputs": []
    },
    {
      "cell_type": "code",
      "source": [
        "modelo_tree = modelar(DecisionTreeClassifier(criterion = 'gini', max_depth = None, min_samples_leaf = 4, min_samples_split= 2), X_train, y_train)\n",
        "acc = predecir(modelo_tree, X_test, y_test, accuracy_score)\n",
        "print(acc)"
      ],
      "metadata": {
        "colab": {
          "base_uri": "https://localhost:8080/"
        },
        "id": "c5mg4WUYkH5d",
        "outputId": "fcd87f42-f270-40d9-b205-d22e146deccf"
      },
      "execution_count": 16,
      "outputs": [
        {
          "output_type": "stream",
          "name": "stdout",
          "text": [
            "0.771\n"
          ]
        }
      ]
    },
    {
      "cell_type": "code",
      "source": [
        "X_test = test.filter(['3', 'Fare', '2', 'Sex', 'Age', 'familia', '1'], axis=1)\n",
        "X_test"
      ],
      "metadata": {
        "colab": {
          "base_uri": "https://localhost:8080/",
          "height": 455
        },
        "id": "tRwO7kT_pwtN",
        "outputId": "83a1037e-b899-4afb-a37d-3f88185c802e"
      },
      "execution_count": 83,
      "outputs": [
        {
          "output_type": "execute_result",
          "data": {
            "text/plain": [
              "               3      Fare    2  Sex   Age  familia    1\n",
              "PassengerId                                             \n",
              "892          1.0  0.015282  0.0    0  34.5        0  0.0\n",
              "893          1.0  0.013663  0.0    1  47.0        1  0.0\n",
              "894          0.0  0.018909  1.0    0  62.0        0  0.0\n",
              "895          1.0  0.016908  0.0    0  27.0        0  0.0\n",
              "896          1.0  0.023984  0.0    1  22.0        2  0.0\n",
              "...          ...       ...  ...  ...   ...      ...  ...\n",
              "1305         1.0  0.015713  0.0    0  48.0        0  0.0\n",
              "1306         0.0  0.212559  0.0    1  39.0        0  1.0\n",
              "1307         1.0  0.014151  0.0    0  38.5        0  0.0\n",
              "1308         1.0  0.015713  0.0    0  18.0        0  0.0\n",
              "1309         1.0  0.043640  0.0    0  26.0        2  0.0\n",
              "\n",
              "[418 rows x 7 columns]"
            ],
            "text/html": [
              "\n",
              "  <div id=\"df-44197ae2-693b-412f-bfb6-d9b1ccff1f94\">\n",
              "    <div class=\"colab-df-container\">\n",
              "      <div>\n",
              "<style scoped>\n",
              "    .dataframe tbody tr th:only-of-type {\n",
              "        vertical-align: middle;\n",
              "    }\n",
              "\n",
              "    .dataframe tbody tr th {\n",
              "        vertical-align: top;\n",
              "    }\n",
              "\n",
              "    .dataframe thead th {\n",
              "        text-align: right;\n",
              "    }\n",
              "</style>\n",
              "<table border=\"1\" class=\"dataframe\">\n",
              "  <thead>\n",
              "    <tr style=\"text-align: right;\">\n",
              "      <th></th>\n",
              "      <th>3</th>\n",
              "      <th>Fare</th>\n",
              "      <th>2</th>\n",
              "      <th>Sex</th>\n",
              "      <th>Age</th>\n",
              "      <th>familia</th>\n",
              "      <th>1</th>\n",
              "    </tr>\n",
              "    <tr>\n",
              "      <th>PassengerId</th>\n",
              "      <th></th>\n",
              "      <th></th>\n",
              "      <th></th>\n",
              "      <th></th>\n",
              "      <th></th>\n",
              "      <th></th>\n",
              "      <th></th>\n",
              "    </tr>\n",
              "  </thead>\n",
              "  <tbody>\n",
              "    <tr>\n",
              "      <th>892</th>\n",
              "      <td>1.0</td>\n",
              "      <td>0.015282</td>\n",
              "      <td>0.0</td>\n",
              "      <td>0</td>\n",
              "      <td>34.5</td>\n",
              "      <td>0</td>\n",
              "      <td>0.0</td>\n",
              "    </tr>\n",
              "    <tr>\n",
              "      <th>893</th>\n",
              "      <td>1.0</td>\n",
              "      <td>0.013663</td>\n",
              "      <td>0.0</td>\n",
              "      <td>1</td>\n",
              "      <td>47.0</td>\n",
              "      <td>1</td>\n",
              "      <td>0.0</td>\n",
              "    </tr>\n",
              "    <tr>\n",
              "      <th>894</th>\n",
              "      <td>0.0</td>\n",
              "      <td>0.018909</td>\n",
              "      <td>1.0</td>\n",
              "      <td>0</td>\n",
              "      <td>62.0</td>\n",
              "      <td>0</td>\n",
              "      <td>0.0</td>\n",
              "    </tr>\n",
              "    <tr>\n",
              "      <th>895</th>\n",
              "      <td>1.0</td>\n",
              "      <td>0.016908</td>\n",
              "      <td>0.0</td>\n",
              "      <td>0</td>\n",
              "      <td>27.0</td>\n",
              "      <td>0</td>\n",
              "      <td>0.0</td>\n",
              "    </tr>\n",
              "    <tr>\n",
              "      <th>896</th>\n",
              "      <td>1.0</td>\n",
              "      <td>0.023984</td>\n",
              "      <td>0.0</td>\n",
              "      <td>1</td>\n",
              "      <td>22.0</td>\n",
              "      <td>2</td>\n",
              "      <td>0.0</td>\n",
              "    </tr>\n",
              "    <tr>\n",
              "      <th>...</th>\n",
              "      <td>...</td>\n",
              "      <td>...</td>\n",
              "      <td>...</td>\n",
              "      <td>...</td>\n",
              "      <td>...</td>\n",
              "      <td>...</td>\n",
              "      <td>...</td>\n",
              "    </tr>\n",
              "    <tr>\n",
              "      <th>1305</th>\n",
              "      <td>1.0</td>\n",
              "      <td>0.015713</td>\n",
              "      <td>0.0</td>\n",
              "      <td>0</td>\n",
              "      <td>48.0</td>\n",
              "      <td>0</td>\n",
              "      <td>0.0</td>\n",
              "    </tr>\n",
              "    <tr>\n",
              "      <th>1306</th>\n",
              "      <td>0.0</td>\n",
              "      <td>0.212559</td>\n",
              "      <td>0.0</td>\n",
              "      <td>1</td>\n",
              "      <td>39.0</td>\n",
              "      <td>0</td>\n",
              "      <td>1.0</td>\n",
              "    </tr>\n",
              "    <tr>\n",
              "      <th>1307</th>\n",
              "      <td>1.0</td>\n",
              "      <td>0.014151</td>\n",
              "      <td>0.0</td>\n",
              "      <td>0</td>\n",
              "      <td>38.5</td>\n",
              "      <td>0</td>\n",
              "      <td>0.0</td>\n",
              "    </tr>\n",
              "    <tr>\n",
              "      <th>1308</th>\n",
              "      <td>1.0</td>\n",
              "      <td>0.015713</td>\n",
              "      <td>0.0</td>\n",
              "      <td>0</td>\n",
              "      <td>18.0</td>\n",
              "      <td>0</td>\n",
              "      <td>0.0</td>\n",
              "    </tr>\n",
              "    <tr>\n",
              "      <th>1309</th>\n",
              "      <td>1.0</td>\n",
              "      <td>0.043640</td>\n",
              "      <td>0.0</td>\n",
              "      <td>0</td>\n",
              "      <td>26.0</td>\n",
              "      <td>2</td>\n",
              "      <td>0.0</td>\n",
              "    </tr>\n",
              "  </tbody>\n",
              "</table>\n",
              "<p>418 rows × 7 columns</p>\n",
              "</div>\n",
              "      <button class=\"colab-df-convert\" onclick=\"convertToInteractive('df-44197ae2-693b-412f-bfb6-d9b1ccff1f94')\"\n",
              "              title=\"Convert this dataframe to an interactive table.\"\n",
              "              style=\"display:none;\">\n",
              "        \n",
              "  <svg xmlns=\"http://www.w3.org/2000/svg\" height=\"24px\"viewBox=\"0 0 24 24\"\n",
              "       width=\"24px\">\n",
              "    <path d=\"M0 0h24v24H0V0z\" fill=\"none\"/>\n",
              "    <path d=\"M18.56 5.44l.94 2.06.94-2.06 2.06-.94-2.06-.94-.94-2.06-.94 2.06-2.06.94zm-11 1L8.5 8.5l.94-2.06 2.06-.94-2.06-.94L8.5 2.5l-.94 2.06-2.06.94zm10 10l.94 2.06.94-2.06 2.06-.94-2.06-.94-.94-2.06-.94 2.06-2.06.94z\"/><path d=\"M17.41 7.96l-1.37-1.37c-.4-.4-.92-.59-1.43-.59-.52 0-1.04.2-1.43.59L10.3 9.45l-7.72 7.72c-.78.78-.78 2.05 0 2.83L4 21.41c.39.39.9.59 1.41.59.51 0 1.02-.2 1.41-.59l7.78-7.78 2.81-2.81c.8-.78.8-2.07 0-2.86zM5.41 20L4 18.59l7.72-7.72 1.47 1.35L5.41 20z\"/>\n",
              "  </svg>\n",
              "      </button>\n",
              "      \n",
              "  <style>\n",
              "    .colab-df-container {\n",
              "      display:flex;\n",
              "      flex-wrap:wrap;\n",
              "      gap: 12px;\n",
              "    }\n",
              "\n",
              "    .colab-df-convert {\n",
              "      background-color: #E8F0FE;\n",
              "      border: none;\n",
              "      border-radius: 50%;\n",
              "      cursor: pointer;\n",
              "      display: none;\n",
              "      fill: #1967D2;\n",
              "      height: 32px;\n",
              "      padding: 0 0 0 0;\n",
              "      width: 32px;\n",
              "    }\n",
              "\n",
              "    .colab-df-convert:hover {\n",
              "      background-color: #E2EBFA;\n",
              "      box-shadow: 0px 1px 2px rgba(60, 64, 67, 0.3), 0px 1px 3px 1px rgba(60, 64, 67, 0.15);\n",
              "      fill: #174EA6;\n",
              "    }\n",
              "\n",
              "    [theme=dark] .colab-df-convert {\n",
              "      background-color: #3B4455;\n",
              "      fill: #D2E3FC;\n",
              "    }\n",
              "\n",
              "    [theme=dark] .colab-df-convert:hover {\n",
              "      background-color: #434B5C;\n",
              "      box-shadow: 0px 1px 3px 1px rgba(0, 0, 0, 0.15);\n",
              "      filter: drop-shadow(0px 1px 2px rgba(0, 0, 0, 0.3));\n",
              "      fill: #FFFFFF;\n",
              "    }\n",
              "  </style>\n",
              "\n",
              "      <script>\n",
              "        const buttonEl =\n",
              "          document.querySelector('#df-44197ae2-693b-412f-bfb6-d9b1ccff1f94 button.colab-df-convert');\n",
              "        buttonEl.style.display =\n",
              "          google.colab.kernel.accessAllowed ? 'block' : 'none';\n",
              "\n",
              "        async function convertToInteractive(key) {\n",
              "          const element = document.querySelector('#df-44197ae2-693b-412f-bfb6-d9b1ccff1f94');\n",
              "          const dataTable =\n",
              "            await google.colab.kernel.invokeFunction('convertToInteractive',\n",
              "                                                     [key], {});\n",
              "          if (!dataTable) return;\n",
              "\n",
              "          const docLinkHtml = 'Like what you see? Visit the ' +\n",
              "            '<a target=\"_blank\" href=https://colab.research.google.com/notebooks/data_table.ipynb>data table notebook</a>'\n",
              "            + ' to learn more about interactive tables.';\n",
              "          element.innerHTML = '';\n",
              "          dataTable['output_type'] = 'display_data';\n",
              "          await google.colab.output.renderOutput(dataTable, element);\n",
              "          const docLink = document.createElement('div');\n",
              "          docLink.innerHTML = docLinkHtml;\n",
              "          element.appendChild(docLink);\n",
              "        }\n",
              "      </script>\n",
              "    </div>\n",
              "  </div>\n",
              "  "
            ]
          },
          "metadata": {},
          "execution_count": 83
        }
      ]
    },
    {
      "cell_type": "code",
      "source": [
        "X_test = test.filter(['3', 'Fare', '2', 'Sex', 'Age', 'familia', '1'], axis=1)\n",
        "test_rdo_tree = rdo(test, predecir_rdo(modelo_tree, X_test))\n",
        "test_rdo_tree.to_csv('arbol2.csv')"
      ],
      "metadata": {
        "id": "rljDNVU2lp5n"
      },
      "execution_count": 19,
      "outputs": []
    },
    {
      "cell_type": "code",
      "source": [],
      "metadata": {
        "id": "Ve0YbWMvpU3s"
      },
      "execution_count": null,
      "outputs": []
    }
  ]
}